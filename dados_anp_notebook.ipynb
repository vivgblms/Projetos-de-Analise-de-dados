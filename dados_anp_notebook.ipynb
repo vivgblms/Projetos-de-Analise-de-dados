{
 "cells": [
  {
   "cell_type": "markdown",
   "id": "ad33c383-5815-49c5-ab0f-10d8734bb90d",
   "metadata": {},
   "source": [
    "# **Análise de dados: Série de Preços de Combustíveis**\n",
    "\n",
    "Os dados coletados pela ANP são disponibilizados no site do governo federal, no portal de dados abertos, e compõem a Série Histórica de Preços de Combustíveis. O arquivo original da base de dados estará anexado a este repositório. Este projeto tem como objetivo a prática e o desenvolvimento da linguagem Python e suas aplicações na análise exploratória de dados.\n"
   ]
  },
  {
   "cell_type": "code",
   "execution_count": 16,
   "id": "c50086b4-3011-4749-831d-a797f6e26c01",
   "metadata": {},
   "outputs": [],
   "source": [
    "# Importação das bibliotecas\n",
    "import pandas as pd\n",
    "import seaborn as sns\n",
    "import matplotlib.pyplot as plt\n",
    "import numpy as np"
   ]
  },
  {
   "cell_type": "markdown",
   "id": "32fa7dd0-b458-4de1-a62a-8bd2104bef68",
   "metadata": {},
   "source": [
    "O arquivo está no formato CSV, com vírgulas (,) como delimitadores."
   ]
  },
  {
   "cell_type": "code",
   "execution_count": 17,
   "id": "2f9c2f44-dd51-4f5b-9fc8-826142ceb915",
   "metadata": {},
   "outputs": [],
   "source": [
    "# Leitura do arquivo\n",
    "df = pd.read_csv('dados_anp.csv', sep=',', encoding='utf-8')"
   ]
  },
  {
   "cell_type": "code",
   "execution_count": 18,
   "id": "7dd588b9-a2e0-4299-8f90-ef435fbacadf",
   "metadata": {},
   "outputs": [
    {
     "data": {
      "text/plain": [
       "(477154, 16)"
      ]
     },
     "execution_count": 18,
     "metadata": {},
     "output_type": "execute_result"
    }
   ],
   "source": [
    "# Informações da quantidaade de linhas e colunas do dataframe\n",
    "df.shape"
   ]
  },
  {
   "cell_type": "code",
   "execution_count": 19,
   "id": "d62a684a-b920-4d17-84dc-73f77534468b",
   "metadata": {},
   "outputs": [
    {
     "name": "stdout",
     "output_type": "stream",
     "text": [
      "<class 'pandas.core.frame.DataFrame'>\n",
      "RangeIndex: 477154 entries, 0 to 477153\n",
      "Data columns (total 16 columns):\n",
      " #   Column             Non-Null Count   Dtype  \n",
      "---  ------             --------------   -----  \n",
      " 0   Regiao - Sigla     477154 non-null  object \n",
      " 1   Estado - Sigla     477154 non-null  object \n",
      " 2   Municipio          477154 non-null  object \n",
      " 3   Revenda            477154 non-null  object \n",
      " 4   CNPJ da Revenda    477154 non-null  object \n",
      " 5   Nome da Rua        477154 non-null  object \n",
      " 6   Numero Rua         477089 non-null  object \n",
      " 7   Complemento        110830 non-null  object \n",
      " 8   Bairro             476286 non-null  object \n",
      " 9   Cep                477154 non-null  object \n",
      " 10  Produto            477154 non-null  object \n",
      " 11  Data da Coleta     477154 non-null  object \n",
      " 12  Valor de Venda     477154 non-null  float64\n",
      " 13  Valor de Compra    0 non-null       float64\n",
      " 14  Unidade de Medida  477154 non-null  object \n",
      " 15  Bandeira           477154 non-null  object \n",
      "dtypes: float64(2), object(14)\n",
      "memory usage: 58.2+ MB\n"
     ]
    }
   ],
   "source": [
    "# Informações mais detalhadas\n",
    "df.info()"
   ]
  },
  {
   "cell_type": "markdown",
   "id": "65aecac8-7b88-4f2a-ab74-788f01557a90",
   "metadata": {},
   "source": [
    "Considerando a ausência de valores significativos e a potencial influência negativa nos resultados, foram removidas as colunas com dados faltantes."
   ]
  },
  {
   "cell_type": "code",
   "execution_count": 20,
   "id": "5ab89ae7-5c58-46b8-8289-a6b2a62c4aaf",
   "metadata": {},
   "outputs": [
    {
     "data": {
      "text/html": [
       "<div>\n",
       "<style scoped>\n",
       "    .dataframe tbody tr th:only-of-type {\n",
       "        vertical-align: middle;\n",
       "    }\n",
       "\n",
       "    .dataframe tbody tr th {\n",
       "        vertical-align: top;\n",
       "    }\n",
       "\n",
       "    .dataframe thead th {\n",
       "        text-align: right;\n",
       "    }\n",
       "</style>\n",
       "<table border=\"1\" class=\"dataframe\">\n",
       "  <thead>\n",
       "    <tr style=\"text-align: right;\">\n",
       "      <th></th>\n",
       "      <th>Estado - Sigla</th>\n",
       "      <th>Municipio</th>\n",
       "      <th>Revenda</th>\n",
       "      <th>Produto</th>\n",
       "      <th>Data da Coleta</th>\n",
       "      <th>Valor de Venda</th>\n",
       "      <th>Unidade de Medida</th>\n",
       "    </tr>\n",
       "  </thead>\n",
       "  <tbody>\n",
       "    <tr>\n",
       "      <th>0</th>\n",
       "      <td>AL</td>\n",
       "      <td>ARAPIRACA</td>\n",
       "      <td>COMERCIAL DE COMBUSTIVEIS E LUBRIFICANTES VITA...</td>\n",
       "      <td>GASOLINA</td>\n",
       "      <td>2024-01-01</td>\n",
       "      <td>5.68</td>\n",
       "      <td>R$ / litro</td>\n",
       "    </tr>\n",
       "    <tr>\n",
       "      <th>1</th>\n",
       "      <td>AL</td>\n",
       "      <td>ARAPIRACA</td>\n",
       "      <td>COMERCIAL DE COMBUSTIVEIS E LUBRIFICANTES VITA...</td>\n",
       "      <td>GASOLINA ADITIVADA</td>\n",
       "      <td>2024-01-01</td>\n",
       "      <td>5.68</td>\n",
       "      <td>R$ / litro</td>\n",
       "    </tr>\n",
       "    <tr>\n",
       "      <th>2</th>\n",
       "      <td>AL</td>\n",
       "      <td>ARAPIRACA</td>\n",
       "      <td>COMERCIAL DE COMBUSTIVEIS E LUBRIFICANTES VITA...</td>\n",
       "      <td>DIESEL S10</td>\n",
       "      <td>2024-01-01</td>\n",
       "      <td>5.93</td>\n",
       "      <td>R$ / litro</td>\n",
       "    </tr>\n",
       "    <tr>\n",
       "      <th>3</th>\n",
       "      <td>AL</td>\n",
       "      <td>ARAPIRACA</td>\n",
       "      <td>COMERCIAL DE COMBUSTIVEIS E LUBRIFICANTES VITA...</td>\n",
       "      <td>ETANOL</td>\n",
       "      <td>2024-01-01</td>\n",
       "      <td>3.99</td>\n",
       "      <td>R$ / litro</td>\n",
       "    </tr>\n",
       "    <tr>\n",
       "      <th>4</th>\n",
       "      <td>AL</td>\n",
       "      <td>ARAPIRACA</td>\n",
       "      <td>AUTO POSTO SAO FRANCISCO LTDA</td>\n",
       "      <td>GASOLINA</td>\n",
       "      <td>2024-01-01</td>\n",
       "      <td>5.48</td>\n",
       "      <td>R$ / litro</td>\n",
       "    </tr>\n",
       "    <tr>\n",
       "      <th>...</th>\n",
       "      <td>...</td>\n",
       "      <td>...</td>\n",
       "      <td>...</td>\n",
       "      <td>...</td>\n",
       "      <td>...</td>\n",
       "      <td>...</td>\n",
       "      <td>...</td>\n",
       "    </tr>\n",
       "    <tr>\n",
       "      <th>477149</th>\n",
       "      <td>PR</td>\n",
       "      <td>CAMPO LARGO</td>\n",
       "      <td>AUTO POSTO IMPERADOR DE CAMPO LARGO LTDA</td>\n",
       "      <td>ETANOL</td>\n",
       "      <td>2024-06-28</td>\n",
       "      <td>3.99</td>\n",
       "      <td>R$ / litro</td>\n",
       "    </tr>\n",
       "    <tr>\n",
       "      <th>477150</th>\n",
       "      <td>MA</td>\n",
       "      <td>CAXIAS</td>\n",
       "      <td>MAXXI PETRONORTE COMBUSTIVEIS E DERIVADOS LTDA</td>\n",
       "      <td>GASOLINA</td>\n",
       "      <td>2024-06-28</td>\n",
       "      <td>5.79</td>\n",
       "      <td>R$ / litro</td>\n",
       "    </tr>\n",
       "    <tr>\n",
       "      <th>477151</th>\n",
       "      <td>MA</td>\n",
       "      <td>CAXIAS</td>\n",
       "      <td>MAXXI PETRONORTE COMBUSTIVEIS E DERIVADOS LTDA</td>\n",
       "      <td>GASOLINA ADITIVADA</td>\n",
       "      <td>2024-06-28</td>\n",
       "      <td>5.89</td>\n",
       "      <td>R$ / litro</td>\n",
       "    </tr>\n",
       "    <tr>\n",
       "      <th>477152</th>\n",
       "      <td>MA</td>\n",
       "      <td>CAXIAS</td>\n",
       "      <td>MAXXI PETRONORTE COMBUSTIVEIS E DERIVADOS LTDA</td>\n",
       "      <td>DIESEL S10</td>\n",
       "      <td>2024-06-28</td>\n",
       "      <td>5.64</td>\n",
       "      <td>R$ / litro</td>\n",
       "    </tr>\n",
       "    <tr>\n",
       "      <th>477153</th>\n",
       "      <td>MA</td>\n",
       "      <td>CAXIAS</td>\n",
       "      <td>MAXXI PETRONORTE COMBUSTIVEIS E DERIVADOS LTDA</td>\n",
       "      <td>ETANOL</td>\n",
       "      <td>2024-06-28</td>\n",
       "      <td>4.59</td>\n",
       "      <td>R$ / litro</td>\n",
       "    </tr>\n",
       "  </tbody>\n",
       "</table>\n",
       "<p>477154 rows × 7 columns</p>\n",
       "</div>"
      ],
      "text/plain": [
       "       Estado - Sigla    Municipio  \\\n",
       "0                  AL    ARAPIRACA   \n",
       "1                  AL    ARAPIRACA   \n",
       "2                  AL    ARAPIRACA   \n",
       "3                  AL    ARAPIRACA   \n",
       "4                  AL    ARAPIRACA   \n",
       "...               ...          ...   \n",
       "477149             PR  CAMPO LARGO   \n",
       "477150             MA       CAXIAS   \n",
       "477151             MA       CAXIAS   \n",
       "477152             MA       CAXIAS   \n",
       "477153             MA       CAXIAS   \n",
       "\n",
       "                                                  Revenda             Produto  \\\n",
       "0       COMERCIAL DE COMBUSTIVEIS E LUBRIFICANTES VITA...            GASOLINA   \n",
       "1       COMERCIAL DE COMBUSTIVEIS E LUBRIFICANTES VITA...  GASOLINA ADITIVADA   \n",
       "2       COMERCIAL DE COMBUSTIVEIS E LUBRIFICANTES VITA...          DIESEL S10   \n",
       "3       COMERCIAL DE COMBUSTIVEIS E LUBRIFICANTES VITA...              ETANOL   \n",
       "4                           AUTO POSTO SAO FRANCISCO LTDA            GASOLINA   \n",
       "...                                                   ...                 ...   \n",
       "477149           AUTO POSTO IMPERADOR DE CAMPO LARGO LTDA              ETANOL   \n",
       "477150     MAXXI PETRONORTE COMBUSTIVEIS E DERIVADOS LTDA            GASOLINA   \n",
       "477151     MAXXI PETRONORTE COMBUSTIVEIS E DERIVADOS LTDA  GASOLINA ADITIVADA   \n",
       "477152     MAXXI PETRONORTE COMBUSTIVEIS E DERIVADOS LTDA          DIESEL S10   \n",
       "477153     MAXXI PETRONORTE COMBUSTIVEIS E DERIVADOS LTDA              ETANOL   \n",
       "\n",
       "       Data da Coleta  Valor de Venda Unidade de Medida  \n",
       "0          2024-01-01            5.68        R$ / litro  \n",
       "1          2024-01-01            5.68        R$ / litro  \n",
       "2          2024-01-01            5.93        R$ / litro  \n",
       "3          2024-01-01            3.99        R$ / litro  \n",
       "4          2024-01-01            5.48        R$ / litro  \n",
       "...               ...             ...               ...  \n",
       "477149     2024-06-28            3.99        R$ / litro  \n",
       "477150     2024-06-28            5.79        R$ / litro  \n",
       "477151     2024-06-28            5.89        R$ / litro  \n",
       "477152     2024-06-28            5.64        R$ / litro  \n",
       "477153     2024-06-28            4.59        R$ / litro  \n",
       "\n",
       "[477154 rows x 7 columns]"
      ]
     },
     "execution_count": 20,
     "metadata": {},
     "output_type": "execute_result"
    }
   ],
   "source": [
    "# Exclusão de colunas irrelevantes e com dados faltantes\n",
    "df.drop(columns=['Regiao - Sigla', 'CNPJ da Revenda', 'Nome da Rua', 'Numero Rua', 'Complemento', 'Cep','Bairro', 'Valor de Compra', 'Bandeira'])"
   ]
  },
  {
   "cell_type": "markdown",
   "id": "e58bdf01-eeae-449c-880e-6c5be4e985f5",
   "metadata": {},
   "source": [
    "Conversão das colunas:"
   ]
  },
  {
   "cell_type": "code",
   "execution_count": 21,
   "id": "c697b3d5-a586-4665-9749-95171ea140b6",
   "metadata": {},
   "outputs": [],
   "source": [
    "df[\"Data da Coleta\"] = pd.to_datetime(df[\"Data da Coleta\"]).dt.date\n",
    "df[\"Valor de Venda\"] = df[\"Valor de Venda\"].astype(str).str.replace(',', '.').astype(float)"
   ]
  },
  {
   "cell_type": "code",
   "execution_count": 22,
   "id": "c7537a44-b7a9-420c-933f-74dc6c2d98f4",
   "metadata": {},
   "outputs": [
    {
     "name": "stdout",
     "output_type": "stream",
     "text": [
      "Há cerca de 8234 revendedores de combustivéis distintos nesta base de dados.\n",
      "E 459 municipios.\n"
     ]
    }
   ],
   "source": [
    "# Total de revendedores e municipios\n",
    "revendedores = df['Revenda'].nunique()\n",
    "total_municipios = df['Municipio'].nunique()\n",
    "print(f'Há cerca de {revendedores} revendedores de combustivéis distintos nesta base de dados.\\nE {total_municipios} municipios.')"
   ]
  },
  {
   "cell_type": "code",
   "execution_count": 23,
   "id": "99718ba0-a2ae-4b02-a5b0-3aac81422915",
   "metadata": {},
   "outputs": [
    {
     "data": {
      "image/png": "[encoded data removed]",
      "text/plain": [
       "<Figure size 800x400 with 1 Axes>"
      ]
     },
     "metadata": {},
     "output_type": "display_data"
    }
   ],
   "source": [
    "municipios = df.groupby('Estado - Sigla')['Revenda'].nunique()\n",
    "# Criação do Gráfico\n",
    "fig, ax = plt.subplots(figsize=(8, 4))\n",
    "palette = sns.color_palette(\"mako\", as_cmap=True)\n",
    "ax.plot(municipios.index, municipios.values, marker='o', color=palette(0.3))\n",
    "ax.set_title('Revendedores por Estado')\n",
    "ax.set_xlabel('Estado')\n",
    "ax.set_ylabel('Número de Revendedores')\n",
    "ax.grid(True)\n",
    "plt.xticks(rotation=45)\n",
    "plt.tight_layout()\n",
    "plt.show()"
   ]
  },
  {
   "cell_type": "code",
   "execution_count": 24,
   "id": "2ad55bfe-a268-447b-8dc7-1d7052ff762e",
   "metadata": {},
   "outputs": [
    {
     "data": {
      "application/vnd.plotly.v1+json": {
       "config": {
        "plotlyServerURL": "https://plot.ly"
       },
       "data": [
        {
         "hovertemplate": "Data=%{x}<br>Total de Vendas=%{y}<extra></extra>",
         "legendgroup": "",
         "line": {
          "color": "#636efa",
          "dash": "solid",
          "shape": "linear"
         },
         "marker": {
          "symbol": "circle"
         },
         "mode": "lines",
         "name": "",
         "orientation": "v",
         "showlegend": false,
         "type": "scatter",
         "x": [
          "2024-01-01",
          "2024-01-02",
          "2024-01-03",
          "2024-01-04",
          "2024-01-05",
          "2024-01-08",
          "2024-01-09",
          "2024-01-10",
          "2024-01-11",
          "2024-01-12",
          "2024-01-15",
          "2024-01-16",
          "2024-01-17",
          "2024-01-18",
          "2024-01-19",
          "2024-01-22",
          "2024-01-23",
          "2024-01-24",
          "2024-01-25",
          "2024-01-26",
          "2024-01-29",
          "2024-01-30",
          "2024-01-31",
          "2024-02-01",
          "2024-02-02",
          "2024-02-05",
          "2024-02-06",
          "2024-02-07",
          "2024-02-08",
          "2024-02-09",
          "2024-02-12",
          "2024-02-13",
          "2024-02-14",
          "2024-02-15",
          "2024-02-16",
          "2024-02-19",
          "2024-02-20",
          "2024-02-21",
          "2024-02-22",
          "2024-02-23",
          "2024-02-26",
          "2024-02-27",
          "2024-02-28",
          "2024-02-29",
          "2024-03-01",
          "2024-03-04",
          "2024-03-05",
          "2024-03-06",
          "2024-03-07",
          "2024-03-08",
          "2024-03-11",
          "2024-03-12",
          "2024-03-13",
          "2024-03-14",
          "2024-03-15",
          "2024-03-18",
          "2024-03-19",
          "2024-03-20",
          "2024-03-21",
          "2024-03-22",
          "2024-03-25",
          "2024-03-26",
          "2024-03-27",
          "2024-03-28",
          "2024-03-29",
          "2024-04-01",
          "2024-04-02",
          "2024-04-03",
          "2024-04-04",
          "2024-04-05",
          "2024-04-08",
          "2024-04-09",
          "2024-04-10",
          "2024-04-11",
          "2024-04-12",
          "2024-04-15",
          "2024-04-16",
          "2024-04-17",
          "2024-04-18",
          "2024-04-19",
          "2024-04-22",
          "2024-04-23",
          "2024-04-24",
          "2024-04-25",
          "2024-04-26",
          "2024-04-29",
          "2024-04-30",
          "2024-05-01",
          "2024-05-02",
          "2024-05-03",
          "2024-05-06",
          "2024-05-07",
          "2024-05-08",
          "2024-05-09",
          "2024-05-10",
          "2024-05-13",
          "2024-05-14",
          "2024-05-15",
          "2024-05-16",
          "2024-05-17",
          "2024-05-20",
          "2024-05-21",
          "2024-05-22",
          "2024-05-23",
          "2024-05-24",
          "2024-05-27",
          "2024-05-28",
          "2024-05-29",
          "2024-05-30",
          "2024-05-31",
          "2024-06-03",
          "2024-06-04",
          "2024-06-05",
          "2024-06-06",
          "2024-06-07",
          "2024-06-10",
          "2024-06-11",
          "2024-06-12",
          "2024-06-13",
          "2024-06-14",
          "2024-06-17",
          "2024-06-18",
          "2024-06-19",
          "2024-06-20",
          "2024-06-21",
          "2024-06-24",
          "2024-06-25",
          "2024-06-26",
          "2024-06-27",
          "2024-06-28"
         ],
         "xaxis": "x",
         "y": [
          6725.49,
          31642.55,
          30806.81,
          19782.74,
          6255.3,
          34785.11,
          24915.82,
          23702.33,
          13027.22,
          984.34,
          33594.51,
          25242.62,
          20287.38,
          15943.27,
          1238.73,
          32100.54,
          21014.12,
          24114.79,
          15004.710000000001,
          980.03,
          36046.18,
          28759.21,
          25032.85,
          7456.02,
          1015.62,
          36058.86,
          26510.29,
          20867.23,
          14737.7,
          1687.17,
          31970.28,
          14793.23,
          20651.69,
          22350.81,
          11829.52,
          34734.66,
          22595.83,
          25511.72,
          15788.17,
          2772.86,
          37272.72,
          26837.96,
          22634.51,
          13392.58,
          746.51,
          34299.3,
          25012.22,
          25272.4,
          14853.5,
          1953.65,
          36668.14,
          27418.84,
          23311.170000000002,
          12083.16,
          1316.52,
          35329.340000000004,
          23914.95,
          21831.76,
          15989.14,
          2948.18,
          32203.82,
          23441.52,
          22219.34,
          17393.1,
          3505.72,
          37818.35,
          23861.35,
          21881.65,
          14712.02,
          1419.57,
          36091.89,
          26388.1,
          22558.36,
          14781.39,
          1248.35,
          36835.22,
          28529.58,
          20448.23,
          15728.56,
          1002.73,
          39159.62,
          26458.56,
          20939.35,
          14428.39,
          1645.59,
          43625.590000000004,
          31175.2,
          9737.61,
          11759.9,
          5912.8,
          38145.19,
          26452.99,
          17891.9,
          15867.64,
          2001.21,
          36853.7,
          24416.69,
          19677.15,
          16156.74,
          1762.8,
          38917.62,
          26001.95,
          17484.28,
          17135.02,
          1423.98,
          32682.34,
          28944.46,
          19608.7,
          11914.82,
          5922.5,
          39486.35,
          24548.49,
          17926.420000000002,
          18757.58,
          1947.8700000000001,
          29303.5,
          29028.33,
          27349.65,
          14295.3,
          2063.34,
          35268.840000000004,
          26025.3,
          22705.48,
          16743.71,
          1546.78,
          34412.86,
          26890.87,
          21766.76,
          15540.47,
          1420.38
         ],
         "yaxis": "y"
        }
       ],
       "layout": {
        "autosize": true,
        "legend": {
         "tracegroupgap": 0
        },
        "template": {
         "data": {
          "bar": [
           {
            "error_x": {
             "color": "#2a3f5f"
            },
            "error_y": {
             "color": "#2a3f5f"
            },
            "marker": {
             "line": {
              "color": "#E5ECF6",
              "width": 0.5
             },
             "pattern": {
              "fillmode": "overlay",
              "size": 10,
              "solidity": 0.2
             }
            },
            "type": "bar"
           }
          ],
          "barpolar": [
           {
            "marker": {
             "line": {
              "color": "#E5ECF6",
              "width": 0.5
             },
             "pattern": {
              "fillmode": "overlay",
              "size": 10,
              "solidity": 0.2
             }
            },
            "type": "barpolar"
           }
          ],
          "carpet": [
           {
            "aaxis": {
             "endlinecolor": "#2a3f5f",
             "gridcolor": "white",
             "linecolor": "white",
             "minorgridcolor": "white",
             "startlinecolor": "#2a3f5f"
            },
            "baxis": {
             "endlinecolor": "#2a3f5f",
             "gridcolor": "white",
             "linecolor": "white",
             "minorgridcolor": "white",
             "startlinecolor": "#2a3f5f"
            },
            "type": "carpet"
           }
          ],
          "choropleth": [
           {
            "colorbar": {
             "outlinewidth": 0,
             "ticks": ""
            },
            "type": "choropleth"
           }
          ],
          "contour": [
           {
            "colorbar": {
             "outlinewidth": 0,
             "ticks": ""
            },
            "colorscale": [
             [
              0,
              "#0d0887"
             ],
             [
              0.1111111111111111,
              "#46039f"
             ],
             [
              0.2222222222222222,
              "#7201a8"
             ],
             [
              0.3333333333333333,
              "#9c179e"
             ],
             [
              0.4444444444444444,
              "#bd3786"
             ],
             [
              0.5555555555555556,
              "#d8576b"
             ],
             [
              0.6666666666666666,
              "#ed7953"
             ],
             [
              0.7777777777777778,
              "#fb9f3a"
             ],
             [
              0.8888888888888888,
              "#fdca26"
             ],
             [
              1,
              "#f0f921"
             ]
            ],
            "type": "contour"
           }
          ],
          "contourcarpet": [
           {
            "colorbar": {
             "outlinewidth": 0,
             "ticks": ""
            },
            "type": "contourcarpet"
           }
          ],
          "heatmap": [
           {
            "colorbar": {
             "outlinewidth": 0,
             "ticks": ""
            },
            "colorscale": [
             [
              0,
              "#0d0887"
             ],
             [
              0.1111111111111111,
              "#46039f"
             ],
             [
              0.2222222222222222,
              "#7201a8"
             ],
             [
              0.3333333333333333,
              "#9c179e"
             ],
             [
              0.4444444444444444,
              "#bd3786"
             ],
             [
              0.5555555555555556,
              "#d8576b"
             ],
             [
              0.6666666666666666,
              "#ed7953"
             ],
             [
              0.7777777777777778,
              "#fb9f3a"
             ],
             [
              0.8888888888888888,
              "#fdca26"
             ],
             [
              1,
              "#f0f921"
             ]
            ],
            "type": "heatmap"
           }
          ],
          "heatmapgl": [
           {
            "colorbar": {
             "outlinewidth": 0,
             "ticks": ""
            },
            "colorscale": [
             [
              0,
              "#0d0887"
             ],
             [
              0.1111111111111111,
              "#46039f"
             ],
             [
              0.2222222222222222,
              "#7201a8"
             ],
             [
              0.3333333333333333,
              "#9c179e"
             ],
             [
              0.4444444444444444,
              "#bd3786"
             ],
             [
              0.5555555555555556,
              "#d8576b"
             ],
             [
              0.6666666666666666,
              "#ed7953"
             ],
             [
              0.7777777777777778,
              "#fb9f3a"
             ],
             [
              0.8888888888888888,
              "#fdca26"
             ],
             [
              1,
              "#f0f921"
             ]
            ],
            "type": "heatmapgl"
           }
          ],
          "histogram": [
           {
            "marker": {
             "pattern": {
              "fillmode": "overlay",
              "size": 10,
              "solidity": 0.2
             }
            },
            "type": "histogram"
           }
          ],
          "histogram2d": [
           {
            "colorbar": {
             "outlinewidth": 0,
             "ticks": ""
            },
            "colorscale": [
             [
              0,
              "#0d0887"
             ],
             [
              0.1111111111111111,
              "#46039f"
             ],
             [
              0.2222222222222222,
              "#7201a8"
             ],
             [
              0.3333333333333333,
              "#9c179e"
             ],
             [
              0.4444444444444444,
              "#bd3786"
             ],
             [
              0.5555555555555556,
              "#d8576b"
             ],
             [
              0.6666666666666666,
              "#ed7953"
             ],
             [
              0.7777777777777778,
              "#fb9f3a"
             ],
             [
              0.8888888888888888,
              "#fdca26"
             ],
             [
              1,
              "#f0f921"
             ]
            ],
            "type": "histogram2d"
           }
          ],
          "histogram2dcontour": [
           {
            "colorbar": {
             "outlinewidth": 0,
             "ticks": ""
            },
            "colorscale": [
             [
              0,
              "#0d0887"
             ],
             [
              0.1111111111111111,
              "#46039f"
             ],
             [
              0.2222222222222222,
              "#7201a8"
             ],
             [
              0.3333333333333333,
              "#9c179e"
             ],
             [
              0.4444444444444444,
              "#bd3786"
             ],
             [
              0.5555555555555556,
              "#d8576b"
             ],
             [
              0.6666666666666666,
              "#ed7953"
             ],
             [
              0.7777777777777778,
              "#fb9f3a"
             ],
             [
              0.8888888888888888,
              "#fdca26"
             ],
             [
              1,
              "#f0f921"
             ]
            ],
            "type": "histogram2dcontour"
           }
          ],
          "mesh3d": [
           {
            "colorbar": {
             "outlinewidth": 0,
             "ticks": ""
            },
            "type": "mesh3d"
           }
          ],
          "parcoords": [
           {
            "line": {
             "colorbar": {
              "outlinewidth": 0,
              "ticks": ""
             }
            },
            "type": "parcoords"
           }
          ],
          "pie": [
           {
            "automargin": true,
            "type": "pie"
           }
          ],
          "scatter": [
           {
            "fillpattern": {
             "fillmode": "overlay",
             "size": 10,
             "solidity": 0.2
            },
            "type": "scatter"
           }
          ],
          "scatter3d": [
           {
            "line": {
             "colorbar": {
              "outlinewidth": 0,
              "ticks": ""
             }
            },
            "marker": {
             "colorbar": {
              "outlinewidth": 0,
              "ticks": ""
             }
            },
            "type": "scatter3d"
           }
          ],
          "scattercarpet": [
           {
            "marker": {
             "colorbar": {
              "outlinewidth": 0,
              "ticks": ""
             }
            },
            "type": "scattercarpet"
           }
          ],
          "scattergeo": [
           {
            "marker": {
             "colorbar": {
              "outlinewidth": 0,
              "ticks": ""
             }
            },
            "type": "scattergeo"
           }
          ],
          "scattergl": [
           {
            "marker": {
             "colorbar": {
              "outlinewidth": 0,
              "ticks": ""
             }
            },
            "type": "scattergl"
           }
          ],
          "scattermapbox": [
           {
            "marker": {
             "colorbar": {
              "outlinewidth": 0,
              "ticks": ""
             }
            },
            "type": "scattermapbox"
           }
          ],
          "scatterpolar": [
           {
            "marker": {
             "colorbar": {
              "outlinewidth": 0,
              "ticks": ""
             }
            },
            "type": "scatterpolar"
           }
          ],
          "scatterpolargl": [
           {
            "marker": {
             "colorbar": {
              "outlinewidth": 0,
              "ticks": ""
             }
            },
            "type": "scatterpolargl"
           }
          ],
          "scatterternary": [
           {
            "marker": {
             "colorbar": {
              "outlinewidth": 0,
              "ticks": ""
             }
            },
            "type": "scatterternary"
           }
          ],
          "surface": [
           {
            "colorbar": {
             "outlinewidth": 0,
             "ticks": ""
            },
            "colorscale": [
             [
              0,
              "#0d0887"
             ],
             [
              0.1111111111111111,
              "#46039f"
             ],
             [
              0.2222222222222222,
              "#7201a8"
             ],
             [
              0.3333333333333333,
              "#9c179e"
             ],
             [
              0.4444444444444444,
              "#bd3786"
             ],
             [
              0.5555555555555556,
              "#d8576b"
             ],
             [
              0.6666666666666666,
              "#ed7953"
             ],
             [
              0.7777777777777778,
              "#fb9f3a"
             ],
             [
              0.8888888888888888,
              "#fdca26"
             ],
             [
              1,
              "#f0f921"
             ]
            ],
            "type": "surface"
           }
          ],
          "table": [
           {
            "cells": {
             "fill": {
              "color": "#EBF0F8"
             },
             "line": {
              "color": "white"
             }
            },
            "header": {
             "fill": {
              "color": "#C8D4E3"
             },
             "line": {
              "color": "white"
             }
            },
            "type": "table"
           }
          ]
         },
         "layout": {
          "annotationdefaults": {
           "arrowcolor": "#2a3f5f",
           "arrowhead": 0,
           "arrowwidth": 1
          },
          "autotypenumbers": "strict",
          "coloraxis": {
           "colorbar": {
            "outlinewidth": 0,
            "ticks": ""
           }
          },
          "colorscale": {
           "diverging": [
            [
             0,
             "#8e0152"
            ],
            [
             0.1,
             "#c51b7d"
            ],
            [
             0.2,
             "#de77ae"
            ],
            [
             0.3,
             "#f1b6da"
            ],
            [
             0.4,
             "#fde0ef"
            ],
            [
             0.5,
             "#f7f7f7"
            ],
            [
             0.6,
             "#e6f5d0"
            ],
            [
             0.7,
             "#b8e186"
            ],
            [
             0.8,
             "#7fbc41"
            ],
            [
             0.9,
             "#4d9221"
            ],
            [
             1,
             "#276419"
            ]
           ],
           "sequential": [
            [
             0,
             "#0d0887"
            ],
            [
             0.1111111111111111,
             "#46039f"
            ],
            [
             0.2222222222222222,
             "#7201a8"
            ],
            [
             0.3333333333333333,
             "#9c179e"
            ],
            [
             0.4444444444444444,
             "#bd3786"
            ],
            [
             0.5555555555555556,
             "#d8576b"
            ],
            [
             0.6666666666666666,
             "#ed7953"
            ],
            [
             0.7777777777777778,
             "#fb9f3a"
            ],
            [
             0.8888888888888888,
             "#fdca26"
            ],
            [
             1,
             "#f0f921"
            ]
           ],
           "sequentialminus": [
            [
             0,
             "#0d0887"
            ],
            [
             0.1111111111111111,
             "#46039f"
            ],
            [
             0.2222222222222222,
             "#7201a8"
            ],
            [
             0.3333333333333333,
             "#9c179e"
            ],
            [
             0.4444444444444444,
             "#bd3786"
            ],
            [
             0.5555555555555556,
             "#d8576b"
            ],
            [
             0.6666666666666666,
             "#ed7953"
            ],
            [
             0.7777777777777778,
             "#fb9f3a"
            ],
            [
             0.8888888888888888,
             "#fdca26"
            ],
            [
             1,
             "#f0f921"
            ]
           ]
          },
          "colorway": [
           "#636efa",
           "#EF553B",
           "#00cc96",
           "#ab63fa",
           "#FFA15A",
           "#19d3f3",
           "#FF6692",
           "#B6E880",
           "#FF97FF",
           "#FECB52"
          ],
          "font": {
           "color": "#2a3f5f"
          },
          "geo": {
           "bgcolor": "white",
           "lakecolor": "white",
           "landcolor": "#E5ECF6",
           "showlakes": true,
           "showland": true,
           "subunitcolor": "white"
          },
          "hoverlabel": {
           "align": "left"
          },
          "hovermode": "closest",
          "mapbox": {
           "style": "light"
          },
          "paper_bgcolor": "white",
          "plot_bgcolor": "#E5ECF6",
          "polar": {
           "angularaxis": {
            "gridcolor": "white",
            "linecolor": "white",
            "ticks": ""
           },
           "bgcolor": "#E5ECF6",
           "radialaxis": {
            "gridcolor": "white",
            "linecolor": "white",
            "ticks": ""
           }
          },
          "scene": {
           "xaxis": {
            "backgroundcolor": "#E5ECF6",
            "gridcolor": "white",
            "gridwidth": 2,
            "linecolor": "white",
            "showbackground": true,
            "ticks": "",
            "zerolinecolor": "white"
           },
           "yaxis": {
            "backgroundcolor": "#E5ECF6",
            "gridcolor": "white",
            "gridwidth": 2,
            "linecolor": "white",
            "showbackground": true,
            "ticks": "",
            "zerolinecolor": "white"
           },
           "zaxis": {
            "backgroundcolor": "#E5ECF6",
            "gridcolor": "white",
            "gridwidth": 2,
            "linecolor": "white",
            "showbackground": true,
            "ticks": "",
            "zerolinecolor": "white"
           }
          },
          "shapedefaults": {
           "line": {
            "color": "#2a3f5f"
           }
          },
          "ternary": {
           "aaxis": {
            "gridcolor": "white",
            "linecolor": "white",
            "ticks": ""
           },
           "baxis": {
            "gridcolor": "white",
            "linecolor": "white",
            "ticks": ""
           },
           "bgcolor": "#E5ECF6",
           "caxis": {
            "gridcolor": "white",
            "linecolor": "white",
            "ticks": ""
           }
          },
          "title": {
           "x": 0.05
          },
          "xaxis": {
           "automargin": true,
           "gridcolor": "white",
           "linecolor": "white",
           "ticks": "",
           "title": {
            "standoff": 15
           },
           "zerolinecolor": "white",
           "zerolinewidth": 2
          },
          "yaxis": {
           "automargin": true,
           "gridcolor": "white",
           "linecolor": "white",
           "ticks": "",
           "title": {
            "standoff": 15
           },
           "zerolinecolor": "white",
           "zerolinewidth": 2
          }
         }
        },
        "title": {
         "text": "Evolução do Valor de Venda ao Longo do Tempo (2024-01-01 a 2024-06-28)"
        },
        "xaxis": {
         "anchor": "y",
         "autorange": true,
         "domain": [
          0,
          1
         ],
         "range": [
          "2024-01-01",
          "2024-06-28"
         ],
         "title": {
          "text": "Data"
         },
         "type": "date"
        },
        "yaxis": {
         "anchor": "x",
         "autorange": true,
         "domain": [
          0,
          1
         ],
         "range": [
          -1635.6611111111113,
          46007.76111111112
         ],
         "title": {
          "text": "Total de Vendas"
         },
         "type": "linear"
        }
       }
      },
      "image/png": "[encoded data removed]",
      "text/html": [
       "<div>                            <div id=\"0b332c5c-f703-4b55-b4b7-7e83467891c4\" class=\"plotly-graph-div\" style=\"height:525px; width:100%;\"></div>            <script type=\"text/javascript\">                require([\"plotly\"], function(Plotly) {                    window.PLOTLYENV=window.PLOTLYENV || {};                                    if (document.getElementById(\"0b332c5c-f703-4b55-b4b7-7e83467891c4\")) {                    Plotly.newPlot(                        \"0b332c5c-f703-4b55-b4b7-7e83467891c4\",                        [{\"hovertemplate\":\"Data=%{x}\\u003cbr\\u003eTotal de Vendas=%{y}\\u003cextra\\u003e\\u003c\\u002fextra\\u003e\",\"legendgroup\":\"\",\"line\":{\"color\":\"#636efa\",\"dash\":\"solid\",\"shape\":\"linear\"},\"marker\":{\"symbol\":\"circle\"},\"mode\":\"lines\",\"name\":\"\",\"orientation\":\"v\",\"showlegend\":false,\"x\":[\"2024-01-01\",\"2024-01-02\",\"2024-01-03\",\"2024-01-04\",\"2024-01-05\",\"2024-01-08\",\"2024-01-09\",\"2024-01-10\",\"2024-01-11\",\"2024-01-12\",\"2024-01-15\",\"2024-01-16\",\"2024-01-17\",\"2024-01-18\",\"2024-01-19\",\"2024-01-22\",\"2024-01-23\",\"2024-01-24\",\"2024-01-25\",\"2024-01-26\",\"2024-01-29\",\"2024-01-30\",\"2024-01-31\",\"2024-02-01\",\"2024-02-02\",\"2024-02-05\",\"2024-02-06\",\"2024-02-07\",\"2024-02-08\",\"2024-02-09\",\"2024-02-12\",\"2024-02-13\",\"2024-02-14\",\"2024-02-15\",\"2024-02-16\",\"2024-02-19\",\"2024-02-20\",\"2024-02-21\",\"2024-02-22\",\"2024-02-23\",\"2024-02-26\",\"2024-02-27\",\"2024-02-28\",\"2024-02-29\",\"2024-03-01\",\"2024-03-04\",\"2024-03-05\",\"2024-03-06\",\"2024-03-07\",\"2024-03-08\",\"2024-03-11\",\"2024-03-12\",\"2024-03-13\",\"2024-03-14\",\"2024-03-15\",\"2024-03-18\",\"2024-03-19\",\"2024-03-20\",\"2024-03-21\",\"2024-03-22\",\"2024-03-25\",\"2024-03-26\",\"2024-03-27\",\"2024-03-28\",\"2024-03-29\",\"2024-04-01\",\"2024-04-02\",\"2024-04-03\",\"2024-04-04\",\"2024-04-05\",\"2024-04-08\",\"2024-04-09\",\"2024-04-10\",\"2024-04-11\",\"2024-04-12\",\"2024-04-15\",\"2024-04-16\",\"2024-04-17\",\"2024-04-18\",\"2024-04-19\",\"2024-04-22\",\"2024-04-23\",\"2024-04-24\",\"2024-04-25\",\"2024-04-26\",\"2024-04-29\",\"2024-04-30\",\"2024-05-01\",\"2024-05-02\",\"2024-05-03\",\"2024-05-06\",\"2024-05-07\",\"2024-05-08\",\"2024-05-09\",\"2024-05-10\",\"2024-05-13\",\"2024-05-14\",\"2024-05-15\",\"2024-05-16\",\"2024-05-17\",\"2024-05-20\",\"2024-05-21\",\"2024-05-22\",\"2024-05-23\",\"2024-05-24\",\"2024-05-27\",\"2024-05-28\",\"2024-05-29\",\"2024-05-30\",\"2024-05-31\",\"2024-06-03\",\"2024-06-04\",\"2024-06-05\",\"2024-06-06\",\"2024-06-07\",\"2024-06-10\",\"2024-06-11\",\"2024-06-12\",\"2024-06-13\",\"2024-06-14\",\"2024-06-17\",\"2024-06-18\",\"2024-06-19\",\"2024-06-20\",\"2024-06-21\",\"2024-06-24\",\"2024-06-25\",\"2024-06-26\",\"2024-06-27\",\"2024-06-28\"],\"xaxis\":\"x\",\"y\":[6725.49,31642.55,30806.81,19782.74,6255.3,34785.11,24915.82,23702.33,13027.22,984.34,33594.51,25242.62,20287.38,15943.27,1238.73,32100.54,21014.12,24114.79,15004.710000000001,980.03,36046.18,28759.21,25032.85,7456.02,1015.62,36058.86,26510.29,20867.23,14737.7,1687.17,31970.28,14793.23,20651.69,22350.81,11829.52,34734.66,22595.83,25511.72,15788.17,2772.86,37272.72,26837.96,22634.51,13392.58,746.51,34299.3,25012.22,25272.4,14853.5,1953.65,36668.14,27418.84,23311.170000000002,12083.16,1316.52,35329.340000000004,23914.95,21831.76,15989.14,2948.18,32203.82,23441.52,22219.34,17393.1,3505.72,37818.35,23861.35,21881.65,14712.02,1419.57,36091.89,26388.1,22558.36,14781.39,1248.35,36835.22,28529.58,20448.23,15728.56,1002.73,39159.62,26458.56,20939.35,14428.39,1645.59,43625.590000000004,31175.2,9737.61,11759.9,5912.8,38145.19,26452.99,17891.9,15867.64,2001.21,36853.7,24416.69,19677.15,16156.74,1762.8,38917.62,26001.95,17484.28,17135.02,1423.98,32682.34,28944.46,19608.7,11914.82,5922.5,39486.35,24548.49,17926.420000000002,18757.58,1947.8700000000001,29303.5,29028.33,27349.65,14295.3,2063.34,35268.840000000004,26025.3,22705.48,16743.71,1546.78,34412.86,26890.87,21766.76,15540.47,1420.38],\"yaxis\":\"y\",\"type\":\"scatter\"}],                        {\"template\":{\"data\":{\"histogram2dcontour\":[{\"type\":\"histogram2dcontour\",\"colorbar\":{\"outlinewidth\":0,\"ticks\":\"\"},\"colorscale\":[[0.0,\"#0d0887\"],[0.1111111111111111,\"#46039f\"],[0.2222222222222222,\"#7201a8\"],[0.3333333333333333,\"#9c179e\"],[0.4444444444444444,\"#bd3786\"],[0.5555555555555556,\"#d8576b\"],[0.6666666666666666,\"#ed7953\"],[0.7777777777777778,\"#fb9f3a\"],[0.8888888888888888,\"#fdca26\"],[1.0,\"#f0f921\"]]}],\"choropleth\":[{\"type\":\"choropleth\",\"colorbar\":{\"outlinewidth\":0,\"ticks\":\"\"}}],\"histogram2d\":[{\"type\":\"histogram2d\",\"colorbar\":{\"outlinewidth\":0,\"ticks\":\"\"},\"colorscale\":[[0.0,\"#0d0887\"],[0.1111111111111111,\"#46039f\"],[0.2222222222222222,\"#7201a8\"],[0.3333333333333333,\"#9c179e\"],[0.4444444444444444,\"#bd3786\"],[0.5555555555555556,\"#d8576b\"],[0.6666666666666666,\"#ed7953\"],[0.7777777777777778,\"#fb9f3a\"],[0.8888888888888888,\"#fdca26\"],[1.0,\"#f0f921\"]]}],\"heatmap\":[{\"type\":\"heatmap\",\"colorbar\":{\"outlinewidth\":0,\"ticks\":\"\"},\"colorscale\":[[0.0,\"#0d0887\"],[0.1111111111111111,\"#46039f\"],[0.2222222222222222,\"#7201a8\"],[0.3333333333333333,\"#9c179e\"],[0.4444444444444444,\"#bd3786\"],[0.5555555555555556,\"#d8576b\"],[0.6666666666666666,\"#ed7953\"],[0.7777777777777778,\"#fb9f3a\"],[0.8888888888888888,\"#fdca26\"],[1.0,\"#f0f921\"]]}],\"heatmapgl\":[{\"type\":\"heatmapgl\",\"colorbar\":{\"outlinewidth\":0,\"ticks\":\"\"},\"colorscale\":[[0.0,\"#0d0887\"],[0.1111111111111111,\"#46039f\"],[0.2222222222222222,\"#7201a8\"],[0.3333333333333333,\"#9c179e\"],[0.4444444444444444,\"#bd3786\"],[0.5555555555555556,\"#d8576b\"],[0.6666666666666666,\"#ed7953\"],[0.7777777777777778,\"#fb9f3a\"],[0.8888888888888888,\"#fdca26\"],[1.0,\"#f0f921\"]]}],\"contourcarpet\":[{\"type\":\"contourcarpet\",\"colorbar\":{\"outlinewidth\":0,\"ticks\":\"\"}}],\"contour\":[{\"type\":\"contour\",\"colorbar\":{\"outlinewidth\":0,\"ticks\":\"\"},\"colorscale\":[[0.0,\"#0d0887\"],[0.1111111111111111,\"#46039f\"],[0.2222222222222222,\"#7201a8\"],[0.3333333333333333,\"#9c179e\"],[0.4444444444444444,\"#bd3786\"],[0.5555555555555556,\"#d8576b\"],[0.6666666666666666,\"#ed7953\"],[0.7777777777777778,\"#fb9f3a\"],[0.8888888888888888,\"#fdca26\"],[1.0,\"#f0f921\"]]}],\"surface\":[{\"type\":\"surface\",\"colorbar\":{\"outlinewidth\":0,\"ticks\":\"\"},\"colorscale\":[[0.0,\"#0d0887\"],[0.1111111111111111,\"#46039f\"],[0.2222222222222222,\"#7201a8\"],[0.3333333333333333,\"#9c179e\"],[0.4444444444444444,\"#bd3786\"],[0.5555555555555556,\"#d8576b\"],[0.6666666666666666,\"#ed7953\"],[0.7777777777777778,\"#fb9f3a\"],[0.8888888888888888,\"#fdca26\"],[1.0,\"#f0f921\"]]}],\"mesh3d\":[{\"type\":\"mesh3d\",\"colorbar\":{\"outlinewidth\":0,\"ticks\":\"\"}}],\"scatter\":[{\"fillpattern\":{\"fillmode\":\"overlay\",\"size\":10,\"solidity\":0.2},\"type\":\"scatter\"}],\"parcoords\":[{\"type\":\"parcoords\",\"line\":{\"colorbar\":{\"outlinewidth\":0,\"ticks\":\"\"}}}],\"scatterpolargl\":[{\"type\":\"scatterpolargl\",\"marker\":{\"colorbar\":{\"outlinewidth\":0,\"ticks\":\"\"}}}],\"bar\":[{\"error_x\":{\"color\":\"#2a3f5f\"},\"error_y\":{\"color\":\"#2a3f5f\"},\"marker\":{\"line\":{\"color\":\"#E5ECF6\",\"width\":0.5},\"pattern\":{\"fillmode\":\"overlay\",\"size\":10,\"solidity\":0.2}},\"type\":\"bar\"}],\"scattergeo\":[{\"type\":\"scattergeo\",\"marker\":{\"colorbar\":{\"outlinewidth\":0,\"ticks\":\"\"}}}],\"scatterpolar\":[{\"type\":\"scatterpolar\",\"marker\":{\"colorbar\":{\"outlinewidth\":0,\"ticks\":\"\"}}}],\"histogram\":[{\"marker\":{\"pattern\":{\"fillmode\":\"overlay\",\"size\":10,\"solidity\":0.2}},\"type\":\"histogram\"}],\"scattergl\":[{\"type\":\"scattergl\",\"marker\":{\"colorbar\":{\"outlinewidth\":0,\"ticks\":\"\"}}}],\"scatter3d\":[{\"type\":\"scatter3d\",\"line\":{\"colorbar\":{\"outlinewidth\":0,\"ticks\":\"\"}},\"marker\":{\"colorbar\":{\"outlinewidth\":0,\"ticks\":\"\"}}}],\"scattermapbox\":[{\"type\":\"scattermapbox\",\"marker\":{\"colorbar\":{\"outlinewidth\":0,\"ticks\":\"\"}}}],\"scatterternary\":[{\"type\":\"scatterternary\",\"marker\":{\"colorbar\":{\"outlinewidth\":0,\"ticks\":\"\"}}}],\"scattercarpet\":[{\"type\":\"scattercarpet\",\"marker\":{\"colorbar\":{\"outlinewidth\":0,\"ticks\":\"\"}}}],\"carpet\":[{\"aaxis\":{\"endlinecolor\":\"#2a3f5f\",\"gridcolor\":\"white\",\"linecolor\":\"white\",\"minorgridcolor\":\"white\",\"startlinecolor\":\"#2a3f5f\"},\"baxis\":{\"endlinecolor\":\"#2a3f5f\",\"gridcolor\":\"white\",\"linecolor\":\"white\",\"minorgridcolor\":\"white\",\"startlinecolor\":\"#2a3f5f\"},\"type\":\"carpet\"}],\"table\":[{\"cells\":{\"fill\":{\"color\":\"#EBF0F8\"},\"line\":{\"color\":\"white\"}},\"header\":{\"fill\":{\"color\":\"#C8D4E3\"},\"line\":{\"color\":\"white\"}},\"type\":\"table\"}],\"barpolar\":[{\"marker\":{\"line\":{\"color\":\"#E5ECF6\",\"width\":0.5},\"pattern\":{\"fillmode\":\"overlay\",\"size\":10,\"solidity\":0.2}},\"type\":\"barpolar\"}],\"pie\":[{\"automargin\":true,\"type\":\"pie\"}]},\"layout\":{\"autotypenumbers\":\"strict\",\"colorway\":[\"#636efa\",\"#EF553B\",\"#00cc96\",\"#ab63fa\",\"#FFA15A\",\"#19d3f3\",\"#FF6692\",\"#B6E880\",\"#FF97FF\",\"#FECB52\"],\"font\":{\"color\":\"#2a3f5f\"},\"hovermode\":\"closest\",\"hoverlabel\":{\"align\":\"left\"},\"paper_bgcolor\":\"white\",\"plot_bgcolor\":\"#E5ECF6\",\"polar\":{\"bgcolor\":\"#E5ECF6\",\"angularaxis\":{\"gridcolor\":\"white\",\"linecolor\":\"white\",\"ticks\":\"\"},\"radialaxis\":{\"gridcolor\":\"white\",\"linecolor\":\"white\",\"ticks\":\"\"}},\"ternary\":{\"bgcolor\":\"#E5ECF6\",\"aaxis\":{\"gridcolor\":\"white\",\"linecolor\":\"white\",\"ticks\":\"\"},\"baxis\":{\"gridcolor\":\"white\",\"linecolor\":\"white\",\"ticks\":\"\"},\"caxis\":{\"gridcolor\":\"white\",\"linecolor\":\"white\",\"ticks\":\"\"}},\"coloraxis\":{\"colorbar\":{\"outlinewidth\":0,\"ticks\":\"\"}},\"colorscale\":{\"sequential\":[[0.0,\"#0d0887\"],[0.1111111111111111,\"#46039f\"],[0.2222222222222222,\"#7201a8\"],[0.3333333333333333,\"#9c179e\"],[0.4444444444444444,\"#bd3786\"],[0.5555555555555556,\"#d8576b\"],[0.6666666666666666,\"#ed7953\"],[0.7777777777777778,\"#fb9f3a\"],[0.8888888888888888,\"#fdca26\"],[1.0,\"#f0f921\"]],\"sequentialminus\":[[0.0,\"#0d0887\"],[0.1111111111111111,\"#46039f\"],[0.2222222222222222,\"#7201a8\"],[0.3333333333333333,\"#9c179e\"],[0.4444444444444444,\"#bd3786\"],[0.5555555555555556,\"#d8576b\"],[0.6666666666666666,\"#ed7953\"],[0.7777777777777778,\"#fb9f3a\"],[0.8888888888888888,\"#fdca26\"],[1.0,\"#f0f921\"]],\"diverging\":[[0,\"#8e0152\"],[0.1,\"#c51b7d\"],[0.2,\"#de77ae\"],[0.3,\"#f1b6da\"],[0.4,\"#fde0ef\"],[0.5,\"#f7f7f7\"],[0.6,\"#e6f5d0\"],[0.7,\"#b8e186\"],[0.8,\"#7fbc41\"],[0.9,\"#4d9221\"],[1,\"#276419\"]]},\"xaxis\":{\"gridcolor\":\"white\",\"linecolor\":\"white\",\"ticks\":\"\",\"title\":{\"standoff\":15},\"zerolinecolor\":\"white\",\"automargin\":true,\"zerolinewidth\":2},\"yaxis\":{\"gridcolor\":\"white\",\"linecolor\":\"white\",\"ticks\":\"\",\"title\":{\"standoff\":15},\"zerolinecolor\":\"white\",\"automargin\":true,\"zerolinewidth\":2},\"scene\":{\"xaxis\":{\"backgroundcolor\":\"#E5ECF6\",\"gridcolor\":\"white\",\"linecolor\":\"white\",\"showbackground\":true,\"ticks\":\"\",\"zerolinecolor\":\"white\",\"gridwidth\":2},\"yaxis\":{\"backgroundcolor\":\"#E5ECF6\",\"gridcolor\":\"white\",\"linecolor\":\"white\",\"showbackground\":true,\"ticks\":\"\",\"zerolinecolor\":\"white\",\"gridwidth\":2},\"zaxis\":{\"backgroundcolor\":\"#E5ECF6\",\"gridcolor\":\"white\",\"linecolor\":\"white\",\"showbackground\":true,\"ticks\":\"\",\"zerolinecolor\":\"white\",\"gridwidth\":2}},\"shapedefaults\":{\"line\":{\"color\":\"#2a3f5f\"}},\"annotationdefaults\":{\"arrowcolor\":\"#2a3f5f\",\"arrowhead\":0,\"arrowwidth\":1},\"geo\":{\"bgcolor\":\"white\",\"landcolor\":\"#E5ECF6\",\"subunitcolor\":\"white\",\"showland\":true,\"showlakes\":true,\"lakecolor\":\"white\"},\"title\":{\"x\":0.05},\"mapbox\":{\"style\":\"light\"}}},\"xaxis\":{\"anchor\":\"y\",\"domain\":[0.0,1.0],\"title\":{\"text\":\"Data\"}},\"yaxis\":{\"anchor\":\"x\",\"domain\":[0.0,1.0],\"title\":{\"text\":\"Total de Vendas\"}},\"legend\":{\"tracegroupgap\":0},\"title\":{\"text\":\"Evolu\\u00e7\\u00e3o do Valor de Venda ao Longo do Tempo (2024-01-01 a 2024-06-28)\"}},                        {\"responsive\": true}                    ).then(function(){\n",
       "                            \n",
       "var gd = document.getElementById('0b332c5c-f703-4b55-b4b7-7e83467891c4');\n",
       "var x = new MutationObserver(function (mutations, observer) {{\n",
       "        var display = window.getComputedStyle(gd).display;\n",
       "        if (!display || display === 'none') {{\n",
       "            console.log([gd, 'removed!']);\n",
       "            Plotly.purge(gd);\n",
       "            observer.disconnect();\n",
       "        }}\n",
       "}});\n",
       "\n",
       "// Listen for the removal of the full notebook cells\n",
       "var notebookContainer = gd.closest('#notebook-container');\n",
       "if (notebookContainer) {{\n",
       "    x.observe(notebookContainer, {childList: true});\n",
       "}}\n",
       "\n",
       "// Listen for the clearing of the current output cell\n",
       "var outputEl = gd.closest('.output');\n",
       "if (outputEl) {{\n",
       "    x.observe(outputEl, {childList: true});\n",
       "}}\n",
       "\n",
       "                        })                };                });            </script>        </div>"
      ]
     },
     "metadata": {},
     "output_type": "display_data"
    },
    {
     "data": {
      "application/vnd.plotly.v1+json": {
       "config": {
        "plotlyServerURL": "https://plot.ly"
       },
       "data": [
        {
         "hovertemplate": "Data=%{x}<br>Total de Vendas=%{y}<extra></extra>",
         "legendgroup": "",
         "line": {
          "color": "#636efa",
          "dash": "solid",
          "shape": "linear"
         },
         "marker": {
          "symbol": "circle"
         },
         "mode": "lines",
         "name": "",
         "orientation": "v",
         "showlegend": false,
         "type": "scatter",
         "x": [
          "2024-01-01",
          "2024-01-02",
          "2024-01-03",
          "2024-01-04",
          "2024-01-05",
          "2024-01-08",
          "2024-01-09",
          "2024-01-10",
          "2024-01-11",
          "2024-01-12",
          "2024-01-15",
          "2024-01-16",
          "2024-01-17",
          "2024-01-18",
          "2024-01-19",
          "2024-01-22",
          "2024-01-23",
          "2024-01-24",
          "2024-01-25",
          "2024-01-26",
          "2024-01-29",
          "2024-01-30",
          "2024-01-31",
          "2024-02-01",
          "2024-02-02",
          "2024-02-05",
          "2024-02-06",
          "2024-02-07",
          "2024-02-08",
          "2024-02-09",
          "2024-02-12",
          "2024-02-13",
          "2024-02-14",
          "2024-02-15",
          "2024-02-16",
          "2024-02-19",
          "2024-02-20",
          "2024-02-21",
          "2024-02-22",
          "2024-02-23",
          "2024-02-26",
          "2024-02-27",
          "2024-02-28",
          "2024-02-29",
          "2024-03-01",
          "2024-03-04",
          "2024-03-05",
          "2024-03-06",
          "2024-03-07",
          "2024-03-08",
          "2024-03-11",
          "2024-03-12",
          "2024-03-13",
          "2024-03-14",
          "2024-03-15",
          "2024-03-18",
          "2024-03-19",
          "2024-03-20",
          "2024-03-21",
          "2024-03-22",
          "2024-03-25",
          "2024-03-26",
          "2024-03-27",
          "2024-03-28",
          "2024-03-29",
          "2024-04-01",
          "2024-04-02",
          "2024-04-03",
          "2024-04-04",
          "2024-04-05",
          "2024-04-08",
          "2024-04-09",
          "2024-04-10",
          "2024-04-11",
          "2024-04-12",
          "2024-04-15",
          "2024-04-16",
          "2024-04-17",
          "2024-04-18",
          "2024-04-19",
          "2024-04-22",
          "2024-04-23",
          "2024-04-24",
          "2024-04-25",
          "2024-04-26",
          "2024-04-29",
          "2024-04-30",
          "2024-05-01",
          "2024-05-02",
          "2024-05-03",
          "2024-05-06",
          "2024-05-07",
          "2024-05-08",
          "2024-05-09",
          "2024-05-10",
          "2024-05-13",
          "2024-05-14",
          "2024-05-15",
          "2024-05-16",
          "2024-05-17",
          "2024-05-20",
          "2024-05-21",
          "2024-05-22",
          "2024-05-23",
          "2024-05-24",
          "2024-05-27",
          "2024-05-28",
          "2024-05-29",
          "2024-05-30",
          "2024-05-31",
          "2024-06-03",
          "2024-06-04",
          "2024-06-05",
          "2024-06-06",
          "2024-06-07",
          "2024-06-10",
          "2024-06-11",
          "2024-06-12",
          "2024-06-13",
          "2024-06-14",
          "2024-06-17",
          "2024-06-18",
          "2024-06-19",
          "2024-06-20",
          "2024-06-21",
          "2024-06-24",
          "2024-06-25",
          "2024-06-26",
          "2024-06-27",
          "2024-06-28"
         ],
         "xaxis": "x",
         "y": [
          6725.49,
          31642.55,
          30806.81,
          19782.74,
          6255.3,
          34785.11,
          24915.82,
          23702.33,
          13027.22,
          984.34,
          33594.51,
          25242.62,
          20287.38,
          15943.27,
          1238.73,
          32100.54,
          21014.12,
          24114.79,
          15004.710000000001,
          980.03,
          36046.18,
          28759.21,
          25032.85,
          7456.02,
          1015.62,
          36058.86,
          26510.29,
          20867.23,
          14737.7,
          1687.17,
          31970.28,
          14793.23,
          20651.69,
          22350.81,
          11829.52,
          34734.66,
          22595.83,
          25511.72,
          15788.17,
          2772.86,
          37272.72,
          26837.96,
          22634.51,
          13392.58,
          746.51,
          34299.3,
          25012.22,
          25272.4,
          14853.5,
          1953.65,
          36668.14,
          27418.84,
          23311.170000000002,
          12083.16,
          1316.52,
          35329.340000000004,
          23914.95,
          21831.76,
          15989.14,
          2948.18,
          32203.82,
          23441.52,
          22219.34,
          17393.1,
          3505.72,
          37818.35,
          23861.35,
          21881.65,
          14712.02,
          1419.57,
          36091.89,
          26388.1,
          22558.36,
          14781.39,
          1248.35,
          36835.22,
          28529.58,
          20448.23,
          15728.56,
          1002.73,
          39159.62,
          26458.56,
          20939.35,
          14428.39,
          1645.59,
          43625.590000000004,
          31175.2,
          9737.61,
          11759.9,
          5912.8,
          38145.19,
          26452.99,
          17891.9,
          15867.64,
          2001.21,
          36853.7,
          24416.69,
          19677.15,
          16156.74,
          1762.8,
          38917.62,
          26001.95,
          17484.28,
          17135.02,
          1423.98,
          32682.34,
          28944.46,
          19608.7,
          11914.82,
          5922.5,
          39486.35,
          24548.49,
          17926.420000000002,
          18757.58,
          1947.8700000000001,
          29303.5,
          29028.33,
          27349.65,
          14295.3,
          2063.34,
          35268.840000000004,
          26025.3,
          22705.48,
          16743.71,
          1546.78,
          34412.86,
          26890.87,
          21766.76,
          15540.47,
          1420.38
         ],
         "yaxis": "y"
        }
       ],
       "layout": {
        "autosize": true,
        "legend": {
         "tracegroupgap": 0
        },
        "template": {
         "data": {
          "bar": [
           {
            "error_x": {
             "color": "#2a3f5f"
            },
            "error_y": {
             "color": "#2a3f5f"
            },
            "marker": {
             "line": {
              "color": "#E5ECF6",
              "width": 0.5
             },
             "pattern": {
              "fillmode": "overlay",
              "size": 10,
              "solidity": 0.2
             }
            },
            "type": "bar"
           }
          ],
          "barpolar": [
           {
            "marker": {
             "line": {
              "color": "#E5ECF6",
              "width": 0.5
             },
             "pattern": {
              "fillmode": "overlay",
              "size": 10,
              "solidity": 0.2
             }
            },
            "type": "barpolar"
           }
          ],
          "carpet": [
           {
            "aaxis": {
             "endlinecolor": "#2a3f5f",
             "gridcolor": "white",
             "linecolor": "white",
             "minorgridcolor": "white",
             "startlinecolor": "#2a3f5f"
            },
            "baxis": {
             "endlinecolor": "#2a3f5f",
             "gridcolor": "white",
             "linecolor": "white",
             "minorgridcolor": "white",
             "startlinecolor": "#2a3f5f"
            },
            "type": "carpet"
           }
          ],
          "choropleth": [
           {
            "colorbar": {
             "outlinewidth": 0,
             "ticks": ""
            },
            "type": "choropleth"
           }
          ],
          "contour": [
           {
            "colorbar": {
             "outlinewidth": 0,
             "ticks": ""
            },
            "colorscale": [
             [
              0,
              "#0d0887"
             ],
             [
              0.1111111111111111,
              "#46039f"
             ],
             [
              0.2222222222222222,
              "#7201a8"
             ],
             [
              0.3333333333333333,
              "#9c179e"
             ],
             [
              0.4444444444444444,
              "#bd3786"
             ],
             [
              0.5555555555555556,
              "#d8576b"
             ],
             [
              0.6666666666666666,
              "#ed7953"
             ],
             [
              0.7777777777777778,
              "#fb9f3a"
             ],
             [
              0.8888888888888888,
              "#fdca26"
             ],
             [
              1,
              "#f0f921"
             ]
            ],
            "type": "contour"
           }
          ],
          "contourcarpet": [
           {
            "colorbar": {
             "outlinewidth": 0,
             "ticks": ""
            },
            "type": "contourcarpet"
           }
          ],
          "heatmap": [
           {
            "colorbar": {
             "outlinewidth": 0,
             "ticks": ""
            },
            "colorscale": [
             [
              0,
              "#0d0887"
             ],
             [
              0.1111111111111111,
              "#46039f"
             ],
             [
              0.2222222222222222,
              "#7201a8"
             ],
             [
              0.3333333333333333,
              "#9c179e"
             ],
             [
              0.4444444444444444,
              "#bd3786"
             ],
             [
              0.5555555555555556,
              "#d8576b"
             ],
             [
              0.6666666666666666,
              "#ed7953"
             ],
             [
              0.7777777777777778,
              "#fb9f3a"
             ],
             [
              0.8888888888888888,
              "#fdca26"
             ],
             [
              1,
              "#f0f921"
             ]
            ],
            "type": "heatmap"
           }
          ],
          "heatmapgl": [
           {
            "colorbar": {
             "outlinewidth": 0,
             "ticks": ""
            },
            "colorscale": [
             [
              0,
              "#0d0887"
             ],
             [
              0.1111111111111111,
              "#46039f"
             ],
             [
              0.2222222222222222,
              "#7201a8"
             ],
             [
              0.3333333333333333,
              "#9c179e"
             ],
             [
              0.4444444444444444,
              "#bd3786"
             ],
             [
              0.5555555555555556,
              "#d8576b"
             ],
             [
              0.6666666666666666,
              "#ed7953"
             ],
             [
              0.7777777777777778,
              "#fb9f3a"
             ],
             [
              0.8888888888888888,
              "#fdca26"
             ],
             [
              1,
              "#f0f921"
             ]
            ],
            "type": "heatmapgl"
           }
          ],
          "histogram": [
           {
            "marker": {
             "pattern": {
              "fillmode": "overlay",
              "size": 10,
              "solidity": 0.2
             }
            },
            "type": "histogram"
           }
          ],
          "histogram2d": [
           {
            "colorbar": {
             "outlinewidth": 0,
             "ticks": ""
            },
            "colorscale": [
             [
              0,
              "#0d0887"
             ],
             [
              0.1111111111111111,
              "#46039f"
             ],
             [
              0.2222222222222222,
              "#7201a8"
             ],
             [
              0.3333333333333333,
              "#9c179e"
             ],
             [
              0.4444444444444444,
              "#bd3786"
             ],
             [
              0.5555555555555556,
              "#d8576b"
             ],
             [
              0.6666666666666666,
              "#ed7953"
             ],
             [
              0.7777777777777778,
              "#fb9f3a"
             ],
             [
              0.8888888888888888,
              "#fdca26"
             ],
             [
              1,
              "#f0f921"
             ]
            ],
            "type": "histogram2d"
           }
          ],
          "histogram2dcontour": [
           {
            "colorbar": {
             "outlinewidth": 0,
             "ticks": ""
            },
            "colorscale": [
             [
              0,
              "#0d0887"
             ],
             [
              0.1111111111111111,
              "#46039f"
             ],
             [
              0.2222222222222222,
              "#7201a8"
             ],
             [
              0.3333333333333333,
              "#9c179e"
             ],
             [
              0.4444444444444444,
              "#bd3786"
             ],
             [
              0.5555555555555556,
              "#d8576b"
             ],
             [
              0.6666666666666666,
              "#ed7953"
             ],
             [
              0.7777777777777778,
              "#fb9f3a"
             ],
             [
              0.8888888888888888,
              "#fdca26"
             ],
             [
              1,
              "#f0f921"
             ]
            ],
            "type": "histogram2dcontour"
           }
          ],
          "mesh3d": [
           {
            "colorbar": {
             "outlinewidth": 0,
             "ticks": ""
            },
            "type": "mesh3d"
           }
          ],
          "parcoords": [
           {
            "line": {
             "colorbar": {
              "outlinewidth": 0,
              "ticks": ""
             }
            },
            "type": "parcoords"
           }
          ],
          "pie": [
           {
            "automargin": true,
            "type": "pie"
           }
          ],
          "scatter": [
           {
            "fillpattern": {
             "fillmode": "overlay",
             "size": 10,
             "solidity": 0.2
            },
            "type": "scatter"
           }
          ],
          "scatter3d": [
           {
            "line": {
             "colorbar": {
              "outlinewidth": 0,
              "ticks": ""
             }
            },
            "marker": {
             "colorbar": {
              "outlinewidth": 0,
              "ticks": ""
             }
            },
            "type": "scatter3d"
           }
          ],
          "scattercarpet": [
           {
            "marker": {
             "colorbar": {
              "outlinewidth": 0,
              "ticks": ""
             }
            },
            "type": "scattercarpet"
           }
          ],
          "scattergeo": [
           {
            "marker": {
             "colorbar": {
              "outlinewidth": 0,
              "ticks": ""
             }
            },
            "type": "scattergeo"
           }
          ],
          "scattergl": [
           {
            "marker": {
             "colorbar": {
              "outlinewidth": 0,
              "ticks": ""
             }
            },
            "type": "scattergl"
           }
          ],
          "scattermapbox": [
           {
            "marker": {
             "colorbar": {
              "outlinewidth": 0,
              "ticks": ""
             }
            },
            "type": "scattermapbox"
           }
          ],
          "scatterpolar": [
           {
            "marker": {
             "colorbar": {
              "outlinewidth": 0,
              "ticks": ""
             }
            },
            "type": "scatterpolar"
           }
          ],
          "scatterpolargl": [
           {
            "marker": {
             "colorbar": {
              "outlinewidth": 0,
              "ticks": ""
             }
            },
            "type": "scatterpolargl"
           }
          ],
          "scatterternary": [
           {
            "marker": {
             "colorbar": {
              "outlinewidth": 0,
              "ticks": ""
             }
            },
            "type": "scatterternary"
           }
          ],
          "surface": [
           {
            "colorbar": {
             "outlinewidth": 0,
             "ticks": ""
            },
            "colorscale": [
             [
              0,
              "#0d0887"
             ],
             [
              0.1111111111111111,
              "#46039f"
             ],
             [
              0.2222222222222222,
              "#7201a8"
             ],
             [
              0.3333333333333333,
              "#9c179e"
             ],
             [
              0.4444444444444444,
              "#bd3786"
             ],
             [
              0.5555555555555556,
              "#d8576b"
             ],
             [
              0.6666666666666666,
              "#ed7953"
             ],
             [
              0.7777777777777778,
              "#fb9f3a"
             ],
             [
              0.8888888888888888,
              "#fdca26"
             ],
             [
              1,
              "#f0f921"
             ]
            ],
            "type": "surface"
           }
          ],
          "table": [
           {
            "cells": {
             "fill": {
              "color": "#EBF0F8"
             },
             "line": {
              "color": "white"
             }
            },
            "header": {
             "fill": {
              "color": "#C8D4E3"
             },
             "line": {
              "color": "white"
             }
            },
            "type": "table"
           }
          ]
         },
         "layout": {
          "annotationdefaults": {
           "arrowcolor": "#2a3f5f",
           "arrowhead": 0,
           "arrowwidth": 1
          },
          "autotypenumbers": "strict",
          "coloraxis": {
           "colorbar": {
            "outlinewidth": 0,
            "ticks": ""
           }
          },
          "colorscale": {
           "diverging": [
            [
             0,
             "#8e0152"
            ],
            [
             0.1,
             "#c51b7d"
            ],
            [
             0.2,
             "#de77ae"
            ],
            [
             0.3,
             "#f1b6da"
            ],
            [
             0.4,
             "#fde0ef"
            ],
            [
             0.5,
             "#f7f7f7"
            ],
            [
             0.6,
             "#e6f5d0"
            ],
            [
             0.7,
             "#b8e186"
            ],
            [
             0.8,
             "#7fbc41"
            ],
            [
             0.9,
             "#4d9221"
            ],
            [
             1,
             "#276419"
            ]
           ],
           "sequential": [
            [
             0,
             "#0d0887"
            ],
            [
             0.1111111111111111,
             "#46039f"
            ],
            [
             0.2222222222222222,
             "#7201a8"
            ],
            [
             0.3333333333333333,
             "#9c179e"
            ],
            [
             0.4444444444444444,
             "#bd3786"
            ],
            [
             0.5555555555555556,
             "#d8576b"
            ],
            [
             0.6666666666666666,
             "#ed7953"
            ],
            [
             0.7777777777777778,
             "#fb9f3a"
            ],
            [
             0.8888888888888888,
             "#fdca26"
            ],
            [
             1,
             "#f0f921"
            ]
           ],
           "sequentialminus": [
            [
             0,
             "#0d0887"
            ],
            [
             0.1111111111111111,
             "#46039f"
            ],
            [
             0.2222222222222222,
             "#7201a8"
            ],
            [
             0.3333333333333333,
             "#9c179e"
            ],
            [
             0.4444444444444444,
             "#bd3786"
            ],
            [
             0.5555555555555556,
             "#d8576b"
            ],
            [
             0.6666666666666666,
             "#ed7953"
            ],
            [
             0.7777777777777778,
             "#fb9f3a"
            ],
            [
             0.8888888888888888,
             "#fdca26"
            ],
            [
             1,
             "#f0f921"
            ]
           ]
          },
          "colorway": [
           "#636efa",
           "#EF553B",
           "#00cc96",
           "#ab63fa",
           "#FFA15A",
           "#19d3f3",
           "#FF6692",
           "#B6E880",
           "#FF97FF",
           "#FECB52"
          ],
          "font": {
           "color": "#2a3f5f"
          },
          "geo": {
           "bgcolor": "white",
           "lakecolor": "white",
           "landcolor": "#E5ECF6",
           "showlakes": true,
           "showland": true,
           "subunitcolor": "white"
          },
          "hoverlabel": {
           "align": "left"
          },
          "hovermode": "closest",
          "mapbox": {
           "style": "light"
          },
          "paper_bgcolor": "white",
          "plot_bgcolor": "#E5ECF6",
          "polar": {
           "angularaxis": {
            "gridcolor": "white",
            "linecolor": "white",
            "ticks": ""
           },
           "bgcolor": "#E5ECF6",
           "radialaxis": {
            "gridcolor": "white",
            "linecolor": "white",
            "ticks": ""
           }
          },
          "scene": {
           "xaxis": {
            "backgroundcolor": "#E5ECF6",
            "gridcolor": "white",
            "gridwidth": 2,
            "linecolor": "white",
            "showbackground": true,
            "ticks": "",
            "zerolinecolor": "white"
           },
           "yaxis": {
            "backgroundcolor": "#E5ECF6",
            "gridcolor": "white",
            "gridwidth": 2,
            "linecolor": "white",
            "showbackground": true,
            "ticks": "",
            "zerolinecolor": "white"
           },
           "zaxis": {
            "backgroundcolor": "#E5ECF6",
            "gridcolor": "white",
            "gridwidth": 2,
            "linecolor": "white",
            "showbackground": true,
            "ticks": "",
            "zerolinecolor": "white"
           }
          },
          "shapedefaults": {
           "line": {
            "color": "#2a3f5f"
           }
          },
          "ternary": {
           "aaxis": {
            "gridcolor": "white",
            "linecolor": "white",
            "ticks": ""
           },
           "baxis": {
            "gridcolor": "white",
            "linecolor": "white",
            "ticks": ""
           },
           "bgcolor": "#E5ECF6",
           "caxis": {
            "gridcolor": "white",
            "linecolor": "white",
            "ticks": ""
           }
          },
          "title": {
           "x": 0.05
          },
          "xaxis": {
           "automargin": true,
           "gridcolor": "white",
           "linecolor": "white",
           "ticks": "",
           "title": {
            "standoff": 15
           },
           "zerolinecolor": "white",
           "zerolinewidth": 2
          },
          "yaxis": {
           "automargin": true,
           "gridcolor": "white",
           "linecolor": "white",
           "ticks": "",
           "title": {
            "standoff": 15
           },
           "zerolinecolor": "white",
           "zerolinewidth": 2
          }
         }
        },
        "title": {
         "text": "Evolução do Valor de Venda ao Longo do Tempo (2024-01-01 a 2024-06-28)"
        },
        "xaxis": {
         "anchor": "y",
         "autorange": true,
         "domain": [
          0,
          1
         ],
         "range": [
          "2024-01-01",
          "2024-06-28"
         ],
         "title": {
          "text": "Data"
         },
         "type": "date"
        },
        "yaxis": {
         "anchor": "x",
         "autorange": true,
         "domain": [
          0,
          1
         ],
         "range": [
          -1635.6611111111113,
          46007.76111111112
         ],
         "title": {
          "text": "Total de Vendas"
         },
         "type": "linear"
        }
       }
      },
      "text/html": [
       "<div>                            <div id=\"96bbc23b-3176-4fed-948a-162323597a83\" class=\"plotly-graph-div\" style=\"height:525px; width:100%;\"></div>            <script type=\"text/javascript\">                require([\"plotly\"], function(Plotly) {                    window.PLOTLYENV=window.PLOTLYENV || {};                                    if (document.getElementById(\"96bbc23b-3176-4fed-948a-162323597a83\")) {                    Plotly.newPlot(                        \"96bbc23b-3176-4fed-948a-162323597a83\",                        [{\"hovertemplate\":\"Data=%{x}\\u003cbr\\u003eTotal de Vendas=%{y}\\u003cextra\\u003e\\u003c\\u002fextra\\u003e\",\"legendgroup\":\"\",\"line\":{\"color\":\"#636efa\",\"dash\":\"solid\",\"shape\":\"linear\"},\"marker\":{\"symbol\":\"circle\"},\"mode\":\"lines\",\"name\":\"\",\"orientation\":\"v\",\"showlegend\":false,\"x\":[\"2024-01-01\",\"2024-01-02\",\"2024-01-03\",\"2024-01-04\",\"2024-01-05\",\"2024-01-08\",\"2024-01-09\",\"2024-01-10\",\"2024-01-11\",\"2024-01-12\",\"2024-01-15\",\"2024-01-16\",\"2024-01-17\",\"2024-01-18\",\"2024-01-19\",\"2024-01-22\",\"2024-01-23\",\"2024-01-24\",\"2024-01-25\",\"2024-01-26\",\"2024-01-29\",\"2024-01-30\",\"2024-01-31\",\"2024-02-01\",\"2024-02-02\",\"2024-02-05\",\"2024-02-06\",\"2024-02-07\",\"2024-02-08\",\"2024-02-09\",\"2024-02-12\",\"2024-02-13\",\"2024-02-14\",\"2024-02-15\",\"2024-02-16\",\"2024-02-19\",\"2024-02-20\",\"2024-02-21\",\"2024-02-22\",\"2024-02-23\",\"2024-02-26\",\"2024-02-27\",\"2024-02-28\",\"2024-02-29\",\"2024-03-01\",\"2024-03-04\",\"2024-03-05\",\"2024-03-06\",\"2024-03-07\",\"2024-03-08\",\"2024-03-11\",\"2024-03-12\",\"2024-03-13\",\"2024-03-14\",\"2024-03-15\",\"2024-03-18\",\"2024-03-19\",\"2024-03-20\",\"2024-03-21\",\"2024-03-22\",\"2024-03-25\",\"2024-03-26\",\"2024-03-27\",\"2024-03-28\",\"2024-03-29\",\"2024-04-01\",\"2024-04-02\",\"2024-04-03\",\"2024-04-04\",\"2024-04-05\",\"2024-04-08\",\"2024-04-09\",\"2024-04-10\",\"2024-04-11\",\"2024-04-12\",\"2024-04-15\",\"2024-04-16\",\"2024-04-17\",\"2024-04-18\",\"2024-04-19\",\"2024-04-22\",\"2024-04-23\",\"2024-04-24\",\"2024-04-25\",\"2024-04-26\",\"2024-04-29\",\"2024-04-30\",\"2024-05-01\",\"2024-05-02\",\"2024-05-03\",\"2024-05-06\",\"2024-05-07\",\"2024-05-08\",\"2024-05-09\",\"2024-05-10\",\"2024-05-13\",\"2024-05-14\",\"2024-05-15\",\"2024-05-16\",\"2024-05-17\",\"2024-05-20\",\"2024-05-21\",\"2024-05-22\",\"2024-05-23\",\"2024-05-24\",\"2024-05-27\",\"2024-05-28\",\"2024-05-29\",\"2024-05-30\",\"2024-05-31\",\"2024-06-03\",\"2024-06-04\",\"2024-06-05\",\"2024-06-06\",\"2024-06-07\",\"2024-06-10\",\"2024-06-11\",\"2024-06-12\",\"2024-06-13\",\"2024-06-14\",\"2024-06-17\",\"2024-06-18\",\"2024-06-19\",\"2024-06-20\",\"2024-06-21\",\"2024-06-24\",\"2024-06-25\",\"2024-06-26\",\"2024-06-27\",\"2024-06-28\"],\"xaxis\":\"x\",\"y\":[6725.49,31642.55,30806.81,19782.74,6255.3,34785.11,24915.82,23702.33,13027.22,984.34,33594.51,25242.62,20287.38,15943.27,1238.73,32100.54,21014.12,24114.79,15004.710000000001,980.03,36046.18,28759.21,25032.85,7456.02,1015.62,36058.86,26510.29,20867.23,14737.7,1687.17,31970.28,14793.23,20651.69,22350.81,11829.52,34734.66,22595.83,25511.72,15788.17,2772.86,37272.72,26837.96,22634.51,13392.58,746.51,34299.3,25012.22,25272.4,14853.5,1953.65,36668.14,27418.84,23311.170000000002,12083.16,1316.52,35329.340000000004,23914.95,21831.76,15989.14,2948.18,32203.82,23441.52,22219.34,17393.1,3505.72,37818.35,23861.35,21881.65,14712.02,1419.57,36091.89,26388.1,22558.36,14781.39,1248.35,36835.22,28529.58,20448.23,15728.56,1002.73,39159.62,26458.56,20939.35,14428.39,1645.59,43625.590000000004,31175.2,9737.61,11759.9,5912.8,38145.19,26452.99,17891.9,15867.64,2001.21,36853.7,24416.69,19677.15,16156.74,1762.8,38917.62,26001.95,17484.28,17135.02,1423.98,32682.34,28944.46,19608.7,11914.82,5922.5,39486.35,24548.49,17926.420000000002,18757.58,1947.8700000000001,29303.5,29028.33,27349.65,14295.3,2063.34,35268.840000000004,26025.3,22705.48,16743.71,1546.78,34412.86,26890.87,21766.76,15540.47,1420.38],\"yaxis\":\"y\",\"type\":\"scatter\"}],                        {\"template\":{\"data\":{\"histogram2dcontour\":[{\"type\":\"histogram2dcontour\",\"colorbar\":{\"outlinewidth\":0,\"ticks\":\"\"},\"colorscale\":[[0.0,\"#0d0887\"],[0.1111111111111111,\"#46039f\"],[0.2222222222222222,\"#7201a8\"],[0.3333333333333333,\"#9c179e\"],[0.4444444444444444,\"#bd3786\"],[0.5555555555555556,\"#d8576b\"],[0.6666666666666666,\"#ed7953\"],[0.7777777777777778,\"#fb9f3a\"],[0.8888888888888888,\"#fdca26\"],[1.0,\"#f0f921\"]]}],\"choropleth\":[{\"type\":\"choropleth\",\"colorbar\":{\"outlinewidth\":0,\"ticks\":\"\"}}],\"histogram2d\":[{\"type\":\"histogram2d\",\"colorbar\":{\"outlinewidth\":0,\"ticks\":\"\"},\"colorscale\":[[0.0,\"#0d0887\"],[0.1111111111111111,\"#46039f\"],[0.2222222222222222,\"#7201a8\"],[0.3333333333333333,\"#9c179e\"],[0.4444444444444444,\"#bd3786\"],[0.5555555555555556,\"#d8576b\"],[0.6666666666666666,\"#ed7953\"],[0.7777777777777778,\"#fb9f3a\"],[0.8888888888888888,\"#fdca26\"],[1.0,\"#f0f921\"]]}],\"heatmap\":[{\"type\":\"heatmap\",\"colorbar\":{\"outlinewidth\":0,\"ticks\":\"\"},\"colorscale\":[[0.0,\"#0d0887\"],[0.1111111111111111,\"#46039f\"],[0.2222222222222222,\"#7201a8\"],[0.3333333333333333,\"#9c179e\"],[0.4444444444444444,\"#bd3786\"],[0.5555555555555556,\"#d8576b\"],[0.6666666666666666,\"#ed7953\"],[0.7777777777777778,\"#fb9f3a\"],[0.8888888888888888,\"#fdca26\"],[1.0,\"#f0f921\"]]}],\"heatmapgl\":[{\"type\":\"heatmapgl\",\"colorbar\":{\"outlinewidth\":0,\"ticks\":\"\"},\"colorscale\":[[0.0,\"#0d0887\"],[0.1111111111111111,\"#46039f\"],[0.2222222222222222,\"#7201a8\"],[0.3333333333333333,\"#9c179e\"],[0.4444444444444444,\"#bd3786\"],[0.5555555555555556,\"#d8576b\"],[0.6666666666666666,\"#ed7953\"],[0.7777777777777778,\"#fb9f3a\"],[0.8888888888888888,\"#fdca26\"],[1.0,\"#f0f921\"]]}],\"contourcarpet\":[{\"type\":\"contourcarpet\",\"colorbar\":{\"outlinewidth\":0,\"ticks\":\"\"}}],\"contour\":[{\"type\":\"contour\",\"colorbar\":{\"outlinewidth\":0,\"ticks\":\"\"},\"colorscale\":[[0.0,\"#0d0887\"],[0.1111111111111111,\"#46039f\"],[0.2222222222222222,\"#7201a8\"],[0.3333333333333333,\"#9c179e\"],[0.4444444444444444,\"#bd3786\"],[0.5555555555555556,\"#d8576b\"],[0.6666666666666666,\"#ed7953\"],[0.7777777777777778,\"#fb9f3a\"],[0.8888888888888888,\"#fdca26\"],[1.0,\"#f0f921\"]]}],\"surface\":[{\"type\":\"surface\",\"colorbar\":{\"outlinewidth\":0,\"ticks\":\"\"},\"colorscale\":[[0.0,\"#0d0887\"],[0.1111111111111111,\"#46039f\"],[0.2222222222222222,\"#7201a8\"],[0.3333333333333333,\"#9c179e\"],[0.4444444444444444,\"#bd3786\"],[0.5555555555555556,\"#d8576b\"],[0.6666666666666666,\"#ed7953\"],[0.7777777777777778,\"#fb9f3a\"],[0.8888888888888888,\"#fdca26\"],[1.0,\"#f0f921\"]]}],\"mesh3d\":[{\"type\":\"mesh3d\",\"colorbar\":{\"outlinewidth\":0,\"ticks\":\"\"}}],\"scatter\":[{\"fillpattern\":{\"fillmode\":\"overlay\",\"size\":10,\"solidity\":0.2},\"type\":\"scatter\"}],\"parcoords\":[{\"type\":\"parcoords\",\"line\":{\"colorbar\":{\"outlinewidth\":0,\"ticks\":\"\"}}}],\"scatterpolargl\":[{\"type\":\"scatterpolargl\",\"marker\":{\"colorbar\":{\"outlinewidth\":0,\"ticks\":\"\"}}}],\"bar\":[{\"error_x\":{\"color\":\"#2a3f5f\"},\"error_y\":{\"color\":\"#2a3f5f\"},\"marker\":{\"line\":{\"color\":\"#E5ECF6\",\"width\":0.5},\"pattern\":{\"fillmode\":\"overlay\",\"size\":10,\"solidity\":0.2}},\"type\":\"bar\"}],\"scattergeo\":[{\"type\":\"scattergeo\",\"marker\":{\"colorbar\":{\"outlinewidth\":0,\"ticks\":\"\"}}}],\"scatterpolar\":[{\"type\":\"scatterpolar\",\"marker\":{\"colorbar\":{\"outlinewidth\":0,\"ticks\":\"\"}}}],\"histogram\":[{\"marker\":{\"pattern\":{\"fillmode\":\"overlay\",\"size\":10,\"solidity\":0.2}},\"type\":\"histogram\"}],\"scattergl\":[{\"type\":\"scattergl\",\"marker\":{\"colorbar\":{\"outlinewidth\":0,\"ticks\":\"\"}}}],\"scatter3d\":[{\"type\":\"scatter3d\",\"line\":{\"colorbar\":{\"outlinewidth\":0,\"ticks\":\"\"}},\"marker\":{\"colorbar\":{\"outlinewidth\":0,\"ticks\":\"\"}}}],\"scattermapbox\":[{\"type\":\"scattermapbox\",\"marker\":{\"colorbar\":{\"outlinewidth\":0,\"ticks\":\"\"}}}],\"scatterternary\":[{\"type\":\"scatterternary\",\"marker\":{\"colorbar\":{\"outlinewidth\":0,\"ticks\":\"\"}}}],\"scattercarpet\":[{\"type\":\"scattercarpet\",\"marker\":{\"colorbar\":{\"outlinewidth\":0,\"ticks\":\"\"}}}],\"carpet\":[{\"aaxis\":{\"endlinecolor\":\"#2a3f5f\",\"gridcolor\":\"white\",\"linecolor\":\"white\",\"minorgridcolor\":\"white\",\"startlinecolor\":\"#2a3f5f\"},\"baxis\":{\"endlinecolor\":\"#2a3f5f\",\"gridcolor\":\"white\",\"linecolor\":\"white\",\"minorgridcolor\":\"white\",\"startlinecolor\":\"#2a3f5f\"},\"type\":\"carpet\"}],\"table\":[{\"cells\":{\"fill\":{\"color\":\"#EBF0F8\"},\"line\":{\"color\":\"white\"}},\"header\":{\"fill\":{\"color\":\"#C8D4E3\"},\"line\":{\"color\":\"white\"}},\"type\":\"table\"}],\"barpolar\":[{\"marker\":{\"line\":{\"color\":\"#E5ECF6\",\"width\":0.5},\"pattern\":{\"fillmode\":\"overlay\",\"size\":10,\"solidity\":0.2}},\"type\":\"barpolar\"}],\"pie\":[{\"automargin\":true,\"type\":\"pie\"}]},\"layout\":{\"autotypenumbers\":\"strict\",\"colorway\":[\"#636efa\",\"#EF553B\",\"#00cc96\",\"#ab63fa\",\"#FFA15A\",\"#19d3f3\",\"#FF6692\",\"#B6E880\",\"#FF97FF\",\"#FECB52\"],\"font\":{\"color\":\"#2a3f5f\"},\"hovermode\":\"closest\",\"hoverlabel\":{\"align\":\"left\"},\"paper_bgcolor\":\"white\",\"plot_bgcolor\":\"#E5ECF6\",\"polar\":{\"bgcolor\":\"#E5ECF6\",\"angularaxis\":{\"gridcolor\":\"white\",\"linecolor\":\"white\",\"ticks\":\"\"},\"radialaxis\":{\"gridcolor\":\"white\",\"linecolor\":\"white\",\"ticks\":\"\"}},\"ternary\":{\"bgcolor\":\"#E5ECF6\",\"aaxis\":{\"gridcolor\":\"white\",\"linecolor\":\"white\",\"ticks\":\"\"},\"baxis\":{\"gridcolor\":\"white\",\"linecolor\":\"white\",\"ticks\":\"\"},\"caxis\":{\"gridcolor\":\"white\",\"linecolor\":\"white\",\"ticks\":\"\"}},\"coloraxis\":{\"colorbar\":{\"outlinewidth\":0,\"ticks\":\"\"}},\"colorscale\":{\"sequential\":[[0.0,\"#0d0887\"],[0.1111111111111111,\"#46039f\"],[0.2222222222222222,\"#7201a8\"],[0.3333333333333333,\"#9c179e\"],[0.4444444444444444,\"#bd3786\"],[0.5555555555555556,\"#d8576b\"],[0.6666666666666666,\"#ed7953\"],[0.7777777777777778,\"#fb9f3a\"],[0.8888888888888888,\"#fdca26\"],[1.0,\"#f0f921\"]],\"sequentialminus\":[[0.0,\"#0d0887\"],[0.1111111111111111,\"#46039f\"],[0.2222222222222222,\"#7201a8\"],[0.3333333333333333,\"#9c179e\"],[0.4444444444444444,\"#bd3786\"],[0.5555555555555556,\"#d8576b\"],[0.6666666666666666,\"#ed7953\"],[0.7777777777777778,\"#fb9f3a\"],[0.8888888888888888,\"#fdca26\"],[1.0,\"#f0f921\"]],\"diverging\":[[0,\"#8e0152\"],[0.1,\"#c51b7d\"],[0.2,\"#de77ae\"],[0.3,\"#f1b6da\"],[0.4,\"#fde0ef\"],[0.5,\"#f7f7f7\"],[0.6,\"#e6f5d0\"],[0.7,\"#b8e186\"],[0.8,\"#7fbc41\"],[0.9,\"#4d9221\"],[1,\"#276419\"]]},\"xaxis\":{\"gridcolor\":\"white\",\"linecolor\":\"white\",\"ticks\":\"\",\"title\":{\"standoff\":15},\"zerolinecolor\":\"white\",\"automargin\":true,\"zerolinewidth\":2},\"yaxis\":{\"gridcolor\":\"white\",\"linecolor\":\"white\",\"ticks\":\"\",\"title\":{\"standoff\":15},\"zerolinecolor\":\"white\",\"automargin\":true,\"zerolinewidth\":2},\"scene\":{\"xaxis\":{\"backgroundcolor\":\"#E5ECF6\",\"gridcolor\":\"white\",\"linecolor\":\"white\",\"showbackground\":true,\"ticks\":\"\",\"zerolinecolor\":\"white\",\"gridwidth\":2},\"yaxis\":{\"backgroundcolor\":\"#E5ECF6\",\"gridcolor\":\"white\",\"linecolor\":\"white\",\"showbackground\":true,\"ticks\":\"\",\"zerolinecolor\":\"white\",\"gridwidth\":2},\"zaxis\":{\"backgroundcolor\":\"#E5ECF6\",\"gridcolor\":\"white\",\"linecolor\":\"white\",\"showbackground\":true,\"ticks\":\"\",\"zerolinecolor\":\"white\",\"gridwidth\":2}},\"shapedefaults\":{\"line\":{\"color\":\"#2a3f5f\"}},\"annotationdefaults\":{\"arrowcolor\":\"#2a3f5f\",\"arrowhead\":0,\"arrowwidth\":1},\"geo\":{\"bgcolor\":\"white\",\"landcolor\":\"#E5ECF6\",\"subunitcolor\":\"white\",\"showland\":true,\"showlakes\":true,\"lakecolor\":\"white\"},\"title\":{\"x\":0.05},\"mapbox\":{\"style\":\"light\"}}},\"xaxis\":{\"anchor\":\"y\",\"domain\":[0.0,1.0],\"title\":{\"text\":\"Data\"}},\"yaxis\":{\"anchor\":\"x\",\"domain\":[0.0,1.0],\"title\":{\"text\":\"Total de Vendas\"}},\"legend\":{\"tracegroupgap\":0},\"title\":{\"text\":\"Evolu\\u00e7\\u00e3o do Valor de Venda ao Longo do Tempo (2024-01-01 a 2024-06-28)\"}},                        {\"responsive\": true}                    ).then(function(){\n",
       "                            \n",
       "var gd = document.getElementById('96bbc23b-3176-4fed-948a-162323597a83');\n",
       "var x = new MutationObserver(function (mutations, observer) {{\n",
       "        var display = window.getComputedStyle(gd).display;\n",
       "        if (!display || display === 'none') {{\n",
       "            console.log([gd, 'removed!']);\n",
       "            Plotly.purge(gd);\n",
       "            observer.disconnect();\n",
       "        }}\n",
       "}});\n",
       "\n",
       "// Listen for the removal of the full notebook cells\n",
       "var notebookContainer = gd.closest('#notebook-container');\n",
       "if (notebookContainer) {{\n",
       "    x.observe(notebookContainer, {childList: true});\n",
       "}}\n",
       "\n",
       "// Listen for the clearing of the current output cell\n",
       "var outputEl = gd.closest('.output');\n",
       "if (outputEl) {{\n",
       "    x.observe(outputEl, {childList: true});\n",
       "}}\n",
       "\n",
       "                        })                };                });            </script>        </div>"
      ]
     },
     "metadata": {},
     "output_type": "display_data"
    }
   ],
   "source": [
    "import plotly.express as px\n",
    "df_evolucao = df.groupby('Data da Coleta')['Valor de Venda'].sum().reset_index()\n",
    "data_minima = df['Data da Coleta'].min()\n",
    "data_maxima = df['Data da Coleta'].max()\n",
    "df_evolucao.rename(columns={'Data da Coleta': 'Data', 'Valor de Venda': 'Total de Vendas'}, inplace=True)\n",
    "fig = px.line(df_evolucao, x='Data', y='Total de Vendas',\n",
    "              title=f'Evolução do Valor de Venda ao Longo do Tempo ({data_minima} a {data_maxima})', line_shape='linear')\n",
    "fig.show()\n",
    "fig.show()"
   ]
  },
  {
   "cell_type": "code",
   "execution_count": 25,
   "id": "c26cee36-ba8c-47c0-9a14-0b4de7729937",
   "metadata": {},
   "outputs": [
    {
     "name": "stdout",
     "output_type": "stream",
     "text": [
      "Dia com menor número de vendas: 2024-03-01 com R$ 746.51\n",
      "Dia com maior número de vendas: 2024-04-29 com R$ 43625.59\n"
     ]
    }
   ],
   "source": [
    "vendas_por_dia = df.groupby(df['Data da Coleta'])['Valor de Venda'].sum()\n",
    "dia_vendas_min = vendas_por_dia.idxmin()\n",
    "valor_min_vendas = vendas_por_dia.min()\n",
    "dia_vendas_max = vendas_por_dia.idxmax()\n",
    "valor_max_vendas = vendas_por_dia.max()\n",
    "print(f\"Dia com menor número de vendas: {dia_vendas_min} com R$ {valor_min_vendas:.2f}\\nDia com maior número de vendas: {dia_vendas_max} com R$ {valor_max_vendas:.2f}\")"
   ]
  },
  {
   "cell_type": "code",
   "execution_count": 26,
   "id": "89024b4b-fee0-452f-a857-5221639799d1",
   "metadata": {},
   "outputs": [
    {
     "name": "stdout",
     "output_type": "stream",
     "text": [
      "Municipio       Estado - Sigla  Data da Coleta\n",
      "CRATO           CE              2024-03-01         11.57\n",
      "TIMOTEO         MG              2024-03-01         14.73\n",
      "PARANAVAI       PR              2024-03-01         82.56\n",
      "CAMPINA GRANDE  PB              2024-03-01         85.87\n",
      "ARARANGUA       SC              2024-03-01         94.36\n",
      "XANXERE         SC              2024-03-01         97.08\n",
      "MAGE            RJ              2024-03-01        113.31\n",
      "COLOMBO         PR              2024-03-01        247.03\n",
      "Name: Valor de Venda, dtype: float64\n"
     ]
    }
   ],
   "source": [
    "data_min = pd.to_datetime('2024-03-01').date()\n",
    "municipios_dia_min = df[df['Data da Coleta'] == data_min].groupby(['Municipio', 'Estado - Sigla', 'Data da Coleta'])['Valor de Venda'].sum()\n",
    "municipios_dia_min = municipios_dia_min.sort_values(ascending=True)\n",
    "print(municipios_dia_min)"
   ]
  },
  {
   "cell_type": "markdown",
   "id": "de462f48-ef4f-4a92-8a43-88bdf485e121",
   "metadata": {},
   "source": [
    "No dia de menor faturamento do período (1º de março de 2024), **Crato (CE)** liderou o ranking de menores receitas, enquanto **Colombo (PR)** obteve o melhor desempenho."
   ]
  },
  {
   "cell_type": "code",
   "execution_count": 27,
   "id": "a0163e9e-1d7e-4581-83d4-18d46e971cfb",
   "metadata": {},
   "outputs": [
    {
     "name": "stdout",
     "output_type": "stream",
     "text": [
      "Revenda\n",
      "RIZZOTTO & CIA LTDA                      77.49\n",
      "AUTO POSTO VIA DA UVA LTDA               33.12\n",
      "POSTO DE GASOLINA RENAZA DE MAGE LTDA    32.24\n",
      "Name: Valor de Venda, dtype: float64\n"
     ]
    }
   ],
   "source": [
    "vendas_por_revendedor = df[df['Data da Coleta'] == data_min].groupby('Revenda')['Valor de Venda'].sum()\n",
    "top_3_revendedores = vendas_por_revendedor.sort_values(ascending=False).head(3)\n",
    "print(top_3_revendedores)"
   ]
  },
  {
   "cell_type": "markdown",
   "id": "30272e68-7bba-47e3-800e-32d06477d431",
   "metadata": {},
   "source": [
    "A análise dos dados de 2024-03-01 revelou que, apesar do baixo volume de vendas, a **RIZZOTTO & CIA LTDA** obteve a maior receita, com **RS 77.49**\n",
    "Posteriormente, a **DEL REYCOMERCIAL DE COMBUSTIVEIS LTDA** registrou a menor, com apenas **R$ 8,92**."
   ]
  },
  {
   "cell_type": "code",
   "execution_count": 28,
   "id": "470eb2d5-43c0-46e4-8e72-c98d061bd7d0",
   "metadata": {},
   "outputs": [
    {
     "data": {
      "text/plain": [
       "Municipio               Estado - Sigla  Data da Coleta\n",
       "SAO PAULO               SP              2024-04-29        3687.80\n",
       "RIO DE JANEIRO          RJ              2024-04-29        1110.69\n",
       "MANAUS                  AM              2024-04-29         826.30\n",
       "GOIANIA                 GO              2024-04-29         754.25\n",
       "BRASILIA                DF              2024-04-29         746.72\n",
       "                                                           ...   \n",
       "SANTO ANTONIO DE JESUS  BA              2024-04-29          17.07\n",
       "BACABAL                 MA              2024-04-29          16.62\n",
       "CABEDELO                PB              2024-04-29          15.69\n",
       "SANTA INES              MA              2024-04-29          11.58\n",
       "MANHUACU                MG              2024-04-29           9.83\n",
       "Name: Valor de Venda, Length: 209, dtype: float64"
      ]
     },
     "metadata": {},
     "output_type": "display_data"
    }
   ],
   "source": [
    "data_max = pd.to_datetime('2024-04-29').date()\n",
    "municipios_dia_max = df[df['Data da Coleta'] == data_max].groupby(['Municipio', 'Estado - Sigla', 'Data da Coleta'])['Valor de Venda'].sum()\n",
    "municipios_dia_max = municipios_dia_max.sort_values(ascending=False)\n",
    "display(municipios_dia_max)"
   ]
  },
  {
   "cell_type": "code",
   "execution_count": 29,
   "id": "76a5b643-86ce-44aa-a263-1d72319626c3",
   "metadata": {},
   "outputs": [
    {
     "data": {
      "text/plain": [
       "Revenda\n",
       "CASCOL COMBUSTIVEIS PARA VEICULOS LTDA    660.56\n",
       "SIM REDE DE POSTOS LTDA                   264.18\n",
       "POSTO ICCAR LTDA                          238.98\n",
       "Name: Valor de Venda, dtype: float64"
      ]
     },
     "metadata": {},
     "output_type": "display_data"
    }
   ],
   "source": [
    "vendas_por_revendedor_max = df[df['Data da Coleta'] == data_max].groupby('Revenda')['Valor de Venda'].sum()\n",
    "top_3_revendedores_max = vendas_por_revendedor_max.sort_values(ascending=False).head(3)\n",
    "display(top_3_revendedores_max)"
   ]
  },
  {
   "cell_type": "markdown",
   "id": "fb7aa1d6-46f8-42cf-9ecd-af554562de37",
   "metadata": {},
   "source": [
    "Dentre os municípios mencionados, o gráfico a seguir apresenta o ranking dos 10 municípios com os maiores valores de venda no período de 01/01/2024 a 28/06/2024"
   ]
  },
  {
   "cell_type": "code",
   "execution_count": 30,
   "id": "8254806c-09b9-41e8-b2ef-9b409a05f78c",
   "metadata": {},
   "outputs": [
    {
     "data": {
      "image/png": "[encoded data removed]",
      "text/plain": [
       "<Figure size 800x400 with 1 Axes>"
      ]
     },
     "metadata": {},
     "output_type": "display_data"
    }
   ],
   "source": [
    "vendas_municipios = df.groupby('Municipio')['Valor de Venda'].sum().sort_values(ascending=False)\n",
    "plt.figure(figsize=(8, 4))\n",
    "palette = sns.color_palette(\"mako\", 3)\n",
    "vendas_municipios.head(10).plot(kind='bar', color=palette)\n",
    "plt.title('Top 10 Municípios com Maior Valor de Venda', fontsize=10)\n",
    "plt.xlabel('Município', fontsize=8)\n",
    "plt.ylabel('Valor de Venda', fontsize=8)\n",
    "plt.xticks(rotation=45)\n",
    "plt.tight_layout()\n",
    "plt.show()"
   ]
  },
  {
   "cell_type": "code",
   "execution_count": 31,
   "id": "2c0f62a6-cf19-4f31-86b2-fe6e4918fe64",
   "metadata": {},
   "outputs": [
    {
     "name": "stdout",
     "output_type": "stream",
     "text": [
      "Municipio\n",
      "SAO PAULO    96976.68\n",
      "Name: Valor de Venda, dtype: float64\n"
     ]
    }
   ],
   "source": [
    "vendas_municipios_max = vendas_municipios.head(1)\n",
    "print(f'{vendas_municipios_max}')"
   ]
  },
  {
   "cell_type": "markdown",
   "id": "509f594f-a598-4823-9abb-8cbb9cbcc1c5",
   "metadata": {},
   "source": [
    "- São Paulo (SP) teve o maior faturamento entre os municípios analisados"
   ]
  },
  {
   "cell_type": "code",
   "execution_count": 32,
   "id": "8b8c1044-30f5-49af-acfb-8078a1289f66",
   "metadata": {},
   "outputs": [
    {
     "name": "stdout",
     "output_type": "stream",
     "text": [
      "Municipio                Estado - Sigla\n",
      "VERA CRUZ                BA                 353.04\n",
      "SAPUCAIA                 RJ                1151.70\n",
      "CAMETA                   PA                1368.45\n",
      "SANTA INES               MA                1524.65\n",
      "PRESIDENTE VENCESLAU     SP                1703.79\n",
      "TEFE                     AM                1735.91\n",
      "ITABIRA                  MG                1743.48\n",
      "OURO PRETO               MG                1760.93\n",
      "BOM DESPACHO             MG                1889.41\n",
      "SANTA CRUZ DO RIO PARDO  SP                1896.48\n",
      "Name: Valor de Venda, dtype: float64\n"
     ]
    }
   ],
   "source": [
    "# Top municipios com menor valor de venda\n",
    "vendas_municipios = df.groupby(['Municipio', 'Estado - Sigla'])['Valor de Venda'].sum().sort_values(ascending=True).head(10)\n",
    "print(vendas_municipios)"
   ]
  },
  {
   "cell_type": "markdown",
   "id": "4d303230-3844-4b6f-8cee-0a861ee62a0e",
   "metadata": {},
   "source": [
    "- De acordo com os resultados da análise, Vera Cruz, BA, apresentou o menor indicador de receita proveniente de vendas"
   ]
  },
  {
   "cell_type": "markdown",
   "id": "09558798-41e7-455c-9aaf-18fb8f3e6356",
   "metadata": {},
   "source": [
    "Os valores médios de cada produto estão apresentados abaixo:"
   ]
  },
  {
   "cell_type": "code",
   "execution_count": 33,
   "id": "f72ea611-1c7f-4b62-88ad-b4701b644d70",
   "metadata": {},
   "outputs": [
    {
     "name": "stdout",
     "output_type": "stream",
     "text": [
      "Produto\n",
      "DIESEL                5.94\n",
      "DIESEL S10            6.00\n",
      "ETANOL                3.90\n",
      "GASOLINA              5.78\n",
      "GASOLINA ADITIVADA    5.97\n",
      "GNV                   4.74\n",
      "Name: Valor de Venda, dtype: float64\n"
     ]
    }
   ],
   "source": [
    "media_valor_venda = df.groupby('Produto')['Valor de Venda'].mean().round(2)\n",
    "print(media_valor_venda)"
   ]
  },
  {
   "cell_type": "markdown",
   "id": "e8f2cd83-137f-4caf-8433-540cf1c8a7da",
   "metadata": {},
   "source": [
    "A tabela subsequente detalha o valor mínimo de cada produto, bem como a data e seu revendedor correspondente."
   ]
  },
  {
   "cell_type": "code",
   "execution_count": 34,
   "id": "cdb32ef0-c0e0-48a8-aa30-9c4f2c46dea5",
   "metadata": {},
   "outputs": [
    {
     "data": {
      "text/html": [
       "<div>\n",
       "<style scoped>\n",
       "    .dataframe tbody tr th:only-of-type {\n",
       "        vertical-align: middle;\n",
       "    }\n",
       "\n",
       "    .dataframe tbody tr th {\n",
       "        vertical-align: top;\n",
       "    }\n",
       "\n",
       "    .dataframe thead th {\n",
       "        text-align: right;\n",
       "    }\n",
       "</style>\n",
       "<table border=\"1\" class=\"dataframe\">\n",
       "  <thead>\n",
       "    <tr style=\"text-align: right;\">\n",
       "      <th></th>\n",
       "      <th>Produto</th>\n",
       "      <th>Data da Coleta</th>\n",
       "      <th>Valor_Minimo</th>\n",
       "      <th>Revendedor</th>\n",
       "    </tr>\n",
       "  </thead>\n",
       "  <tbody>\n",
       "    <tr>\n",
       "      <th>0</th>\n",
       "      <td>DIESEL</td>\n",
       "      <td>2024-01-04</td>\n",
       "      <td>4.69</td>\n",
       "      <td>CARVALHO &amp;CARVALHO LTDA</td>\n",
       "    </tr>\n",
       "    <tr>\n",
       "      <th>1</th>\n",
       "      <td>DIESEL S10</td>\n",
       "      <td>2024-01-24</td>\n",
       "      <td>4.99</td>\n",
       "      <td>ALCANTARA &amp; FARIA LTDA</td>\n",
       "    </tr>\n",
       "    <tr>\n",
       "      <th>2</th>\n",
       "      <td>ETANOL</td>\n",
       "      <td>2024-01-24</td>\n",
       "      <td>2.63</td>\n",
       "      <td>AUTO POSTO NOVA VENEZA LTDA.</td>\n",
       "    </tr>\n",
       "    <tr>\n",
       "      <th>3</th>\n",
       "      <td>GASOLINA</td>\n",
       "      <td>2024-01-23</td>\n",
       "      <td>4.55</td>\n",
       "      <td>POSTO DE SERVICO VENEZA LTDA</td>\n",
       "    </tr>\n",
       "    <tr>\n",
       "      <th>4</th>\n",
       "      <td>GASOLINA ADITIVADA</td>\n",
       "      <td>2024-01-23</td>\n",
       "      <td>4.69</td>\n",
       "      <td>LIRIOS SERVICOS AUTOMOTIVOS LTDA</td>\n",
       "    </tr>\n",
       "    <tr>\n",
       "      <th>5</th>\n",
       "      <td>GNV</td>\n",
       "      <td>2024-01-09</td>\n",
       "      <td>3.54</td>\n",
       "      <td>AUTO POSTO SANTOS DUMONT EIRELI</td>\n",
       "    </tr>\n",
       "  </tbody>\n",
       "</table>\n",
       "</div>"
      ],
      "text/plain": [
       "              Produto Data da Coleta  Valor_Minimo  \\\n",
       "0              DIESEL     2024-01-04          4.69   \n",
       "1          DIESEL S10     2024-01-24          4.99   \n",
       "2              ETANOL     2024-01-24          2.63   \n",
       "3            GASOLINA     2024-01-23          4.55   \n",
       "4  GASOLINA ADITIVADA     2024-01-23          4.69   \n",
       "5                 GNV     2024-01-09          3.54   \n",
       "\n",
       "                         Revendedor  \n",
       "0           CARVALHO &CARVALHO LTDA  \n",
       "1            ALCANTARA & FARIA LTDA  \n",
       "2      AUTO POSTO NOVA VENEZA LTDA.  \n",
       "3      POSTO DE SERVICO VENEZA LTDA  \n",
       "4  LIRIOS SERVICOS AUTOMOTIVOS LTDA  \n",
       "5   AUTO POSTO SANTOS DUMONT EIRELI  "
      ]
     },
     "metadata": {},
     "output_type": "display_data"
    }
   ],
   "source": [
    "df_vendas_valor_min = df.loc[df.groupby('Produto')['Valor de Venda'].idxmin()]\n",
    "df_vendas_valor_min = df_vendas_valor_min[['Produto', 'Data da Coleta','Valor de Venda', 'Revenda']]\n",
    "df_vendas_valor_min.rename(columns={'Valor de Venda': 'Valor_Minimo', 'Revenda': 'Revendedor'}, inplace=True)\n",
    "df_vendas_valor_min= df_vendas_valor_min.reset_index(drop=True)\n",
    "display(df_vendas_valor_min)"
   ]
  },
  {
   "cell_type": "markdown",
   "id": "52b2a55b-68ef-468d-84b4-37e712f3c456",
   "metadata": {},
   "source": [
    "Abaixo, como complemento das informações anteriores, o valor máximo de cada produto e seu respectivo revendedor"
   ]
  },
  {
   "cell_type": "code",
   "execution_count": 35,
   "id": "f62bc652-3de0-4939-ae25-64a47c3d61bc",
   "metadata": {},
   "outputs": [
    {
     "data": {
      "text/html": [
       "<div>\n",
       "<style scoped>\n",
       "    .dataframe tbody tr th:only-of-type {\n",
       "        vertical-align: middle;\n",
       "    }\n",
       "\n",
       "    .dataframe tbody tr th {\n",
       "        vertical-align: top;\n",
       "    }\n",
       "\n",
       "    .dataframe thead th {\n",
       "        text-align: right;\n",
       "    }\n",
       "</style>\n",
       "<table border=\"1\" class=\"dataframe\">\n",
       "  <thead>\n",
       "    <tr style=\"text-align: right;\">\n",
       "      <th></th>\n",
       "      <th>Produto</th>\n",
       "      <th>Data da Coleta</th>\n",
       "      <th>Valor_Máximo</th>\n",
       "      <th>Revendedor</th>\n",
       "    </tr>\n",
       "  </thead>\n",
       "  <tbody>\n",
       "    <tr>\n",
       "      <th>0</th>\n",
       "      <td>DIESEL</td>\n",
       "      <td>2024-01-09</td>\n",
       "      <td>8.19</td>\n",
       "      <td>MARCOS A.S. CORDEIRO</td>\n",
       "    </tr>\n",
       "    <tr>\n",
       "      <th>1</th>\n",
       "      <td>DIESEL S10</td>\n",
       "      <td>2024-01-04</td>\n",
       "      <td>8.89</td>\n",
       "      <td>OMEGA COMERCIO DE DERIVADOS DE PETROLEO E TRAN...</td>\n",
       "    </tr>\n",
       "    <tr>\n",
       "      <th>2</th>\n",
       "      <td>ETANOL</td>\n",
       "      <td>2024-01-02</td>\n",
       "      <td>6.60</td>\n",
       "      <td>AUTO POSTO NACIONAL LTDA.</td>\n",
       "    </tr>\n",
       "    <tr>\n",
       "      <th>3</th>\n",
       "      <td>GASOLINA</td>\n",
       "      <td>2024-01-15</td>\n",
       "      <td>7.99</td>\n",
       "      <td>SENA PARK AUTO POSTO LTDA</td>\n",
       "    </tr>\n",
       "    <tr>\n",
       "      <th>4</th>\n",
       "      <td>GASOLINA ADITIVADA</td>\n",
       "      <td>2024-02-14</td>\n",
       "      <td>8.89</td>\n",
       "      <td>AUTO POSTO DINAMARCA LTDA</td>\n",
       "    </tr>\n",
       "    <tr>\n",
       "      <th>5</th>\n",
       "      <td>GNV</td>\n",
       "      <td>2024-01-10</td>\n",
       "      <td>6.69</td>\n",
       "      <td>CASCOL COMBUSTIVEIS PARA VEICULOS LTDA</td>\n",
       "    </tr>\n",
       "  </tbody>\n",
       "</table>\n",
       "</div>"
      ],
      "text/plain": [
       "              Produto Data da Coleta  Valor_Máximo  \\\n",
       "0              DIESEL     2024-01-09          8.19   \n",
       "1          DIESEL S10     2024-01-04          8.89   \n",
       "2              ETANOL     2024-01-02          6.60   \n",
       "3            GASOLINA     2024-01-15          7.99   \n",
       "4  GASOLINA ADITIVADA     2024-02-14          8.89   \n",
       "5                 GNV     2024-01-10          6.69   \n",
       "\n",
       "                                          Revendedor  \n",
       "0                               MARCOS A.S. CORDEIRO  \n",
       "1  OMEGA COMERCIO DE DERIVADOS DE PETROLEO E TRAN...  \n",
       "2                          AUTO POSTO NACIONAL LTDA.  \n",
       "3                          SENA PARK AUTO POSTO LTDA  \n",
       "4                          AUTO POSTO DINAMARCA LTDA  \n",
       "5             CASCOL COMBUSTIVEIS PARA VEICULOS LTDA  "
      ]
     },
     "metadata": {},
     "output_type": "display_data"
    }
   ],
   "source": [
    "df_vendas_valor_max = df.loc[df.groupby('Produto')['Valor de Venda'].idxmax()]\n",
    "df_vendas_valor_max = df_vendas_valor_max[['Produto', 'Data da Coleta', 'Valor de Venda', 'Revenda']]\n",
    "df_vendas_valor_max.rename(columns={'Valor de Venda': 'Valor_Máximo', 'Revenda': 'Revendedor'}, inplace=True)\n",
    "df_vendas_valor_max= df_vendas_valor_max.reset_index(drop=True)\n",
    "display(df_vendas_valor_max)"
   ]
  },
  {
   "cell_type": "markdown",
   "id": "0b589d64-1f46-4886-8d6e-2f95f3f0ef16",
   "metadata": {},
   "source": [
    "Para melhor visualização dos dados, o gráfico a seguir apresenta um comparativo de valores mínimos e máximos de cada produto listado anteriormente"
   ]
  },
  {
   "cell_type": "code",
   "execution_count": 36,
   "id": "53bff926-0928-4adc-963f-1130606aa7c3",
   "metadata": {},
   "outputs": [
    {
     "data": {
      "application/vnd.plotly.v1+json": {
       "config": {
        "plotlyServerURL": "https://plot.ly"
       },
       "data": [
        {
         "marker": {
          "color": "#40498e"
         },
         "name": "Valor Mínimo",
         "type": "bar",
         "x": [
          "DIESEL",
          "DIESEL S10",
          "ETANOL",
          "GASOLINA",
          "GASOLINA ADITIVADA",
          "GNV"
         ],
         "y": [
          4.69,
          4.99,
          2.63,
          4.55,
          4.69,
          3.54
         ]
        },
        {
         "marker": {
          "color": "#38aaac"
         },
         "name": "Valor Máximo",
         "type": "bar",
         "x": [
          "DIESEL",
          "DIESEL S10",
          "ETANOL",
          "GASOLINA",
          "GASOLINA ADITIVADA",
          "GNV"
         ],
         "y": [
          8.19,
          8.89,
          6.6,
          7.99,
          8.89,
          6.69
         ]
        }
       ],
       "layout": {
        "annotations": [
         {
          "arrowhead": 2,
          "ax": 0,
          "ay": -40,
          "font": {
           "color": "black",
           "size": 10
          },
          "showarrow": true,
          "text": "74.63%",
          "x": "DIESEL",
          "y": 8.19
         },
         {
          "arrowhead": 2,
          "ax": 0,
          "ay": -40,
          "font": {
           "color": "black",
           "size": 10
          },
          "showarrow": true,
          "text": "78.16%",
          "x": "DIESEL S10",
          "y": 8.89
         },
         {
          "arrowhead": 2,
          "ax": 0,
          "ay": -40,
          "font": {
           "color": "black",
           "size": 10
          },
          "showarrow": true,
          "text": "150.95%",
          "x": "ETANOL",
          "y": 6.6
         },
         {
          "arrowhead": 2,
          "ax": 0,
          "ay": -40,
          "font": {
           "color": "black",
           "size": 10
          },
          "showarrow": true,
          "text": "75.60%",
          "x": "GASOLINA",
          "y": 7.99
         },
         {
          "arrowhead": 2,
          "ax": 0,
          "ay": -40,
          "font": {
           "color": "black",
           "size": 10
          },
          "showarrow": true,
          "text": "89.55%",
          "x": "GASOLINA ADITIVADA",
          "y": 8.89
         },
         {
          "arrowhead": 2,
          "ax": 0,
          "ay": -40,
          "font": {
           "color": "black",
           "size": 10
          },
          "showarrow": true,
          "text": "88.98%",
          "x": "GNV",
          "y": 6.69
         }
        ],
        "autosize": true,
        "barmode": "group",
        "legend": {
         "title": {
          "text": "Tipo de Valor"
         }
        },
        "showlegend": true,
        "template": {
         "data": {
          "bar": [
           {
            "error_x": {
             "color": "#2a3f5f"
            },
            "error_y": {
             "color": "#2a3f5f"
            },
            "marker": {
             "line": {
              "color": "#E5ECF6",
              "width": 0.5
             },
             "pattern": {
              "fillmode": "overlay",
              "size": 10,
              "solidity": 0.2
             }
            },
            "type": "bar"
           }
          ],
          "barpolar": [
           {
            "marker": {
             "line": {
              "color": "#E5ECF6",
              "width": 0.5
             },
             "pattern": {
              "fillmode": "overlay",
              "size": 10,
              "solidity": 0.2
             }
            },
            "type": "barpolar"
           }
          ],
          "carpet": [
           {
            "aaxis": {
             "endlinecolor": "#2a3f5f",
             "gridcolor": "white",
             "linecolor": "white",
             "minorgridcolor": "white",
             "startlinecolor": "#2a3f5f"
            },
            "baxis": {
             "endlinecolor": "#2a3f5f",
             "gridcolor": "white",
             "linecolor": "white",
             "minorgridcolor": "white",
             "startlinecolor": "#2a3f5f"
            },
            "type": "carpet"
           }
          ],
          "choropleth": [
           {
            "colorbar": {
             "outlinewidth": 0,
             "ticks": ""
            },
            "type": "choropleth"
           }
          ],
          "contour": [
           {
            "colorbar": {
             "outlinewidth": 0,
             "ticks": ""
            },
            "colorscale": [
             [
              0,
              "#0d0887"
             ],
             [
              0.1111111111111111,
              "#46039f"
             ],
             [
              0.2222222222222222,
              "#7201a8"
             ],
             [
              0.3333333333333333,
              "#9c179e"
             ],
             [
              0.4444444444444444,
              "#bd3786"
             ],
             [
              0.5555555555555556,
              "#d8576b"
             ],
             [
              0.6666666666666666,
              "#ed7953"
             ],
             [
              0.7777777777777778,
              "#fb9f3a"
             ],
             [
              0.8888888888888888,
              "#fdca26"
             ],
             [
              1,
              "#f0f921"
             ]
            ],
            "type": "contour"
           }
          ],
          "contourcarpet": [
           {
            "colorbar": {
             "outlinewidth": 0,
             "ticks": ""
            },
            "type": "contourcarpet"
           }
          ],
          "heatmap": [
           {
            "colorbar": {
             "outlinewidth": 0,
             "ticks": ""
            },
            "colorscale": [
             [
              0,
              "#0d0887"
             ],
             [
              0.1111111111111111,
              "#46039f"
             ],
             [
              0.2222222222222222,
              "#7201a8"
             ],
             [
              0.3333333333333333,
              "#9c179e"
             ],
             [
              0.4444444444444444,
              "#bd3786"
             ],
             [
              0.5555555555555556,
              "#d8576b"
             ],
             [
              0.6666666666666666,
              "#ed7953"
             ],
             [
              0.7777777777777778,
              "#fb9f3a"
             ],
             [
              0.8888888888888888,
              "#fdca26"
             ],
             [
              1,
              "#f0f921"
             ]
            ],
            "type": "heatmap"
           }
          ],
          "heatmapgl": [
           {
            "colorbar": {
             "outlinewidth": 0,
             "ticks": ""
            },
            "colorscale": [
             [
              0,
              "#0d0887"
             ],
             [
              0.1111111111111111,
              "#46039f"
             ],
             [
              0.2222222222222222,
              "#7201a8"
             ],
             [
              0.3333333333333333,
              "#9c179e"
             ],
             [
              0.4444444444444444,
              "#bd3786"
             ],
             [
              0.5555555555555556,
              "#d8576b"
             ],
             [
              0.6666666666666666,
              "#ed7953"
             ],
             [
              0.7777777777777778,
              "#fb9f3a"
             ],
             [
              0.8888888888888888,
              "#fdca26"
             ],
             [
              1,
              "#f0f921"
             ]
            ],
            "type": "heatmapgl"
           }
          ],
          "histogram": [
           {
            "marker": {
             "pattern": {
              "fillmode": "overlay",
              "size": 10,
              "solidity": 0.2
             }
            },
            "type": "histogram"
           }
          ],
          "histogram2d": [
           {
            "colorbar": {
             "outlinewidth": 0,
             "ticks": ""
            },
            "colorscale": [
             [
              0,
              "#0d0887"
             ],
             [
              0.1111111111111111,
              "#46039f"
             ],
             [
              0.2222222222222222,
              "#7201a8"
             ],
             [
              0.3333333333333333,
              "#9c179e"
             ],
             [
              0.4444444444444444,
              "#bd3786"
             ],
             [
              0.5555555555555556,
              "#d8576b"
             ],
             [
              0.6666666666666666,
              "#ed7953"
             ],
             [
              0.7777777777777778,
              "#fb9f3a"
             ],
             [
              0.8888888888888888,
              "#fdca26"
             ],
             [
              1,
              "#f0f921"
             ]
            ],
            "type": "histogram2d"
           }
          ],
          "histogram2dcontour": [
           {
            "colorbar": {
             "outlinewidth": 0,
             "ticks": ""
            },
            "colorscale": [
             [
              0,
              "#0d0887"
             ],
             [
              0.1111111111111111,
              "#46039f"
             ],
             [
              0.2222222222222222,
              "#7201a8"
             ],
             [
              0.3333333333333333,
              "#9c179e"
             ],
             [
              0.4444444444444444,
              "#bd3786"
             ],
             [
              0.5555555555555556,
              "#d8576b"
             ],
             [
              0.6666666666666666,
              "#ed7953"
             ],
             [
              0.7777777777777778,
              "#fb9f3a"
             ],
             [
              0.8888888888888888,
              "#fdca26"
             ],
             [
              1,
              "#f0f921"
             ]
            ],
            "type": "histogram2dcontour"
           }
          ],
          "mesh3d": [
           {
            "colorbar": {
             "outlinewidth": 0,
             "ticks": ""
            },
            "type": "mesh3d"
           }
          ],
          "parcoords": [
           {
            "line": {
             "colorbar": {
              "outlinewidth": 0,
              "ticks": ""
             }
            },
            "type": "parcoords"
           }
          ],
          "pie": [
           {
            "automargin": true,
            "type": "pie"
           }
          ],
          "scatter": [
           {
            "fillpattern": {
             "fillmode": "overlay",
             "size": 10,
             "solidity": 0.2
            },
            "type": "scatter"
           }
          ],
          "scatter3d": [
           {
            "line": {
             "colorbar": {
              "outlinewidth": 0,
              "ticks": ""
             }
            },
            "marker": {
             "colorbar": {
              "outlinewidth": 0,
              "ticks": ""
             }
            },
            "type": "scatter3d"
           }
          ],
          "scattercarpet": [
           {
            "marker": {
             "colorbar": {
              "outlinewidth": 0,
              "ticks": ""
             }
            },
            "type": "scattercarpet"
           }
          ],
          "scattergeo": [
           {
            "marker": {
             "colorbar": {
              "outlinewidth": 0,
              "ticks": ""
             }
            },
            "type": "scattergeo"
           }
          ],
          "scattergl": [
           {
            "marker": {
             "colorbar": {
              "outlinewidth": 0,
              "ticks": ""
             }
            },
            "type": "scattergl"
           }
          ],
          "scattermapbox": [
           {
            "marker": {
             "colorbar": {
              "outlinewidth": 0,
              "ticks": ""
             }
            },
            "type": "scattermapbox"
           }
          ],
          "scatterpolar": [
           {
            "marker": {
             "colorbar": {
              "outlinewidth": 0,
              "ticks": ""
             }
            },
            "type": "scatterpolar"
           }
          ],
          "scatterpolargl": [
           {
            "marker": {
             "colorbar": {
              "outlinewidth": 0,
              "ticks": ""
             }
            },
            "type": "scatterpolargl"
           }
          ],
          "scatterternary": [
           {
            "marker": {
             "colorbar": {
              "outlinewidth": 0,
              "ticks": ""
             }
            },
            "type": "scatterternary"
           }
          ],
          "surface": [
           {
            "colorbar": {
             "outlinewidth": 0,
             "ticks": ""
            },
            "colorscale": [
             [
              0,
              "#0d0887"
             ],
             [
              0.1111111111111111,
              "#46039f"
             ],
             [
              0.2222222222222222,
              "#7201a8"
             ],
             [
              0.3333333333333333,
              "#9c179e"
             ],
             [
              0.4444444444444444,
              "#bd3786"
             ],
             [
              0.5555555555555556,
              "#d8576b"
             ],
             [
              0.6666666666666666,
              "#ed7953"
             ],
             [
              0.7777777777777778,
              "#fb9f3a"
             ],
             [
              0.8888888888888888,
              "#fdca26"
             ],
             [
              1,
              "#f0f921"
             ]
            ],
            "type": "surface"
           }
          ],
          "table": [
           {
            "cells": {
             "fill": {
              "color": "#EBF0F8"
             },
             "line": {
              "color": "white"
             }
            },
            "header": {
             "fill": {
              "color": "#C8D4E3"
             },
             "line": {
              "color": "white"
             }
            },
            "type": "table"
           }
          ]
         },
         "layout": {
          "annotationdefaults": {
           "arrowcolor": "#2a3f5f",
           "arrowhead": 0,
           "arrowwidth": 1
          },
          "autotypenumbers": "strict",
          "coloraxis": {
           "colorbar": {
            "outlinewidth": 0,
            "ticks": ""
           }
          },
          "colorscale": {
           "diverging": [
            [
             0,
             "#8e0152"
            ],
            [
             0.1,
             "#c51b7d"
            ],
            [
             0.2,
             "#de77ae"
            ],
            [
             0.3,
             "#f1b6da"
            ],
            [
             0.4,
             "#fde0ef"
            ],
            [
             0.5,
             "#f7f7f7"
            ],
            [
             0.6,
             "#e6f5d0"
            ],
            [
             0.7,
             "#b8e186"
            ],
            [
             0.8,
             "#7fbc41"
            ],
            [
             0.9,
             "#4d9221"
            ],
            [
             1,
             "#276419"
            ]
           ],
           "sequential": [
            [
             0,
             "#0d0887"
            ],
            [
             0.1111111111111111,
             "#46039f"
            ],
            [
             0.2222222222222222,
             "#7201a8"
            ],
            [
             0.3333333333333333,
             "#9c179e"
            ],
            [
             0.4444444444444444,
             "#bd3786"
            ],
            [
             0.5555555555555556,
             "#d8576b"
            ],
            [
             0.6666666666666666,
             "#ed7953"
            ],
            [
             0.7777777777777778,
             "#fb9f3a"
            ],
            [
             0.8888888888888888,
             "#fdca26"
            ],
            [
             1,
             "#f0f921"
            ]
           ],
           "sequentialminus": [
            [
             0,
             "#0d0887"
            ],
            [
             0.1111111111111111,
             "#46039f"
            ],
            [
             0.2222222222222222,
             "#7201a8"
            ],
            [
             0.3333333333333333,
             "#9c179e"
            ],
            [
             0.4444444444444444,
             "#bd3786"
            ],
            [
             0.5555555555555556,
             "#d8576b"
            ],
            [
             0.6666666666666666,
             "#ed7953"
            ],
            [
             0.7777777777777778,
             "#fb9f3a"
            ],
            [
             0.8888888888888888,
             "#fdca26"
            ],
            [
             1,
             "#f0f921"
            ]
           ]
          },
          "colorway": [
           "#636efa",
           "#EF553B",
           "#00cc96",
           "#ab63fa",
           "#FFA15A",
           "#19d3f3",
           "#FF6692",
           "#B6E880",
           "#FF97FF",
           "#FECB52"
          ],
          "font": {
           "color": "#2a3f5f"
          },
          "geo": {
           "bgcolor": "white",
           "lakecolor": "white",
           "landcolor": "#E5ECF6",
           "showlakes": true,
           "showland": true,
           "subunitcolor": "white"
          },
          "hoverlabel": {
           "align": "left"
          },
          "hovermode": "closest",
          "mapbox": {
           "style": "light"
          },
          "paper_bgcolor": "white",
          "plot_bgcolor": "#E5ECF6",
          "polar": {
           "angularaxis": {
            "gridcolor": "white",
            "linecolor": "white",
            "ticks": ""
           },
           "bgcolor": "#E5ECF6",
           "radialaxis": {
            "gridcolor": "white",
            "linecolor": "white",
            "ticks": ""
           }
          },
          "scene": {
           "xaxis": {
            "backgroundcolor": "#E5ECF6",
            "gridcolor": "white",
            "gridwidth": 2,
            "linecolor": "white",
            "showbackground": true,
            "ticks": "",
            "zerolinecolor": "white"
           },
           "yaxis": {
            "backgroundcolor": "#E5ECF6",
            "gridcolor": "white",
            "gridwidth": 2,
            "linecolor": "white",
            "showbackground": true,
            "ticks": "",
            "zerolinecolor": "white"
           },
           "zaxis": {
            "backgroundcolor": "#E5ECF6",
            "gridcolor": "white",
            "gridwidth": 2,
            "linecolor": "white",
            "showbackground": true,
            "ticks": "",
            "zerolinecolor": "white"
           }
          },
          "shapedefaults": {
           "line": {
            "color": "#2a3f5f"
           }
          },
          "ternary": {
           "aaxis": {
            "gridcolor": "white",
            "linecolor": "white",
            "ticks": ""
           },
           "baxis": {
            "gridcolor": "white",
            "linecolor": "white",
            "ticks": ""
           },
           "bgcolor": "#E5ECF6",
           "caxis": {
            "gridcolor": "white",
            "linecolor": "white",
            "ticks": ""
           }
          },
          "title": {
           "x": 0.05
          },
          "xaxis": {
           "automargin": true,
           "gridcolor": "white",
           "linecolor": "white",
           "ticks": "",
           "title": {
            "standoff": 15
           },
           "zerolinecolor": "white",
           "zerolinewidth": 2
          },
          "yaxis": {
           "automargin": true,
           "gridcolor": "white",
           "linecolor": "white",
           "ticks": "",
           "title": {
            "standoff": 15
           },
           "zerolinecolor": "white",
           "zerolinewidth": 2
          }
         }
        },
        "title": {
         "text": "Comparativo de Valores por Produto"
        },
        "xaxis": {
         "autorange": true,
         "range": [
          -0.5,
          5.5
         ],
         "tickangle": -45,
         "title": {
          "text": "Produto"
         },
         "type": "category"
        },
        "yaxis": {
         "autorange": true,
         "range": [
          0,
          15.258955223880598
         ],
         "title": {
          "text": "Valor de Venda (R$)"
         },
         "type": "linear"
        }
       }
      },
      "image/png": "[encoded data removed]",
      "text/html": [
       "<div>                            <div id=\"0675a29a-9f6f-4f5e-b925-7683fbd53d74\" class=\"plotly-graph-div\" style=\"height:525px; width:100%;\"></div>            <script type=\"text/javascript\">                require([\"plotly\"], function(Plotly) {                    window.PLOTLYENV=window.PLOTLYENV || {};                                    if (document.getElementById(\"0675a29a-9f6f-4f5e-b925-7683fbd53d74\")) {                    Plotly.newPlot(                        \"0675a29a-9f6f-4f5e-b925-7683fbd53d74\",                        [{\"marker\":{\"color\":\"#40498e\"},\"name\":\"Valor M\\u00ednimo\",\"x\":[\"DIESEL\",\"DIESEL S10\",\"ETANOL\",\"GASOLINA\",\"GASOLINA ADITIVADA\",\"GNV\"],\"y\":[4.69,4.99,2.63,4.55,4.69,3.54],\"type\":\"bar\"},{\"marker\":{\"color\":\"#38aaac\"},\"name\":\"Valor M\\u00e1ximo\",\"x\":[\"DIESEL\",\"DIESEL S10\",\"ETANOL\",\"GASOLINA\",\"GASOLINA ADITIVADA\",\"GNV\"],\"y\":[8.19,8.89,6.6,7.99,8.89,6.69],\"type\":\"bar\"}],                        {\"template\":{\"data\":{\"histogram2dcontour\":[{\"type\":\"histogram2dcontour\",\"colorbar\":{\"outlinewidth\":0,\"ticks\":\"\"},\"colorscale\":[[0.0,\"#0d0887\"],[0.1111111111111111,\"#46039f\"],[0.2222222222222222,\"#7201a8\"],[0.3333333333333333,\"#9c179e\"],[0.4444444444444444,\"#bd3786\"],[0.5555555555555556,\"#d8576b\"],[0.6666666666666666,\"#ed7953\"],[0.7777777777777778,\"#fb9f3a\"],[0.8888888888888888,\"#fdca26\"],[1.0,\"#f0f921\"]]}],\"choropleth\":[{\"type\":\"choropleth\",\"colorbar\":{\"outlinewidth\":0,\"ticks\":\"\"}}],\"histogram2d\":[{\"type\":\"histogram2d\",\"colorbar\":{\"outlinewidth\":0,\"ticks\":\"\"},\"colorscale\":[[0.0,\"#0d0887\"],[0.1111111111111111,\"#46039f\"],[0.2222222222222222,\"#7201a8\"],[0.3333333333333333,\"#9c179e\"],[0.4444444444444444,\"#bd3786\"],[0.5555555555555556,\"#d8576b\"],[0.6666666666666666,\"#ed7953\"],[0.7777777777777778,\"#fb9f3a\"],[0.8888888888888888,\"#fdca26\"],[1.0,\"#f0f921\"]]}],\"heatmap\":[{\"type\":\"heatmap\",\"colorbar\":{\"outlinewidth\":0,\"ticks\":\"\"},\"colorscale\":[[0.0,\"#0d0887\"],[0.1111111111111111,\"#46039f\"],[0.2222222222222222,\"#7201a8\"],[0.3333333333333333,\"#9c179e\"],[0.4444444444444444,\"#bd3786\"],[0.5555555555555556,\"#d8576b\"],[0.6666666666666666,\"#ed7953\"],[0.7777777777777778,\"#fb9f3a\"],[0.8888888888888888,\"#fdca26\"],[1.0,\"#f0f921\"]]}],\"heatmapgl\":[{\"type\":\"heatmapgl\",\"colorbar\":{\"outlinewidth\":0,\"ticks\":\"\"},\"colorscale\":[[0.0,\"#0d0887\"],[0.1111111111111111,\"#46039f\"],[0.2222222222222222,\"#7201a8\"],[0.3333333333333333,\"#9c179e\"],[0.4444444444444444,\"#bd3786\"],[0.5555555555555556,\"#d8576b\"],[0.6666666666666666,\"#ed7953\"],[0.7777777777777778,\"#fb9f3a\"],[0.8888888888888888,\"#fdca26\"],[1.0,\"#f0f921\"]]}],\"contourcarpet\":[{\"type\":\"contourcarpet\",\"colorbar\":{\"outlinewidth\":0,\"ticks\":\"\"}}],\"contour\":[{\"type\":\"contour\",\"colorbar\":{\"outlinewidth\":0,\"ticks\":\"\"},\"colorscale\":[[0.0,\"#0d0887\"],[0.1111111111111111,\"#46039f\"],[0.2222222222222222,\"#7201a8\"],[0.3333333333333333,\"#9c179e\"],[0.4444444444444444,\"#bd3786\"],[0.5555555555555556,\"#d8576b\"],[0.6666666666666666,\"#ed7953\"],[0.7777777777777778,\"#fb9f3a\"],[0.8888888888888888,\"#fdca26\"],[1.0,\"#f0f921\"]]}],\"surface\":[{\"type\":\"surface\",\"colorbar\":{\"outlinewidth\":0,\"ticks\":\"\"},\"colorscale\":[[0.0,\"#0d0887\"],[0.1111111111111111,\"#46039f\"],[0.2222222222222222,\"#7201a8\"],[0.3333333333333333,\"#9c179e\"],[0.4444444444444444,\"#bd3786\"],[0.5555555555555556,\"#d8576b\"],[0.6666666666666666,\"#ed7953\"],[0.7777777777777778,\"#fb9f3a\"],[0.8888888888888888,\"#fdca26\"],[1.0,\"#f0f921\"]]}],\"mesh3d\":[{\"type\":\"mesh3d\",\"colorbar\":{\"outlinewidth\":0,\"ticks\":\"\"}}],\"scatter\":[{\"fillpattern\":{\"fillmode\":\"overlay\",\"size\":10,\"solidity\":0.2},\"type\":\"scatter\"}],\"parcoords\":[{\"type\":\"parcoords\",\"line\":{\"colorbar\":{\"outlinewidth\":0,\"ticks\":\"\"}}}],\"scatterpolargl\":[{\"type\":\"scatterpolargl\",\"marker\":{\"colorbar\":{\"outlinewidth\":0,\"ticks\":\"\"}}}],\"bar\":[{\"error_x\":{\"color\":\"#2a3f5f\"},\"error_y\":{\"color\":\"#2a3f5f\"},\"marker\":{\"line\":{\"color\":\"#E5ECF6\",\"width\":0.5},\"pattern\":{\"fillmode\":\"overlay\",\"size\":10,\"solidity\":0.2}},\"type\":\"bar\"}],\"scattergeo\":[{\"type\":\"scattergeo\",\"marker\":{\"colorbar\":{\"outlinewidth\":0,\"ticks\":\"\"}}}],\"scatterpolar\":[{\"type\":\"scatterpolar\",\"marker\":{\"colorbar\":{\"outlinewidth\":0,\"ticks\":\"\"}}}],\"histogram\":[{\"marker\":{\"pattern\":{\"fillmode\":\"overlay\",\"size\":10,\"solidity\":0.2}},\"type\":\"histogram\"}],\"scattergl\":[{\"type\":\"scattergl\",\"marker\":{\"colorbar\":{\"outlinewidth\":0,\"ticks\":\"\"}}}],\"scatter3d\":[{\"type\":\"scatter3d\",\"line\":{\"colorbar\":{\"outlinewidth\":0,\"ticks\":\"\"}},\"marker\":{\"colorbar\":{\"outlinewidth\":0,\"ticks\":\"\"}}}],\"scattermapbox\":[{\"type\":\"scattermapbox\",\"marker\":{\"colorbar\":{\"outlinewidth\":0,\"ticks\":\"\"}}}],\"scatterternary\":[{\"type\":\"scatterternary\",\"marker\":{\"colorbar\":{\"outlinewidth\":0,\"ticks\":\"\"}}}],\"scattercarpet\":[{\"type\":\"scattercarpet\",\"marker\":{\"colorbar\":{\"outlinewidth\":0,\"ticks\":\"\"}}}],\"carpet\":[{\"aaxis\":{\"endlinecolor\":\"#2a3f5f\",\"gridcolor\":\"white\",\"linecolor\":\"white\",\"minorgridcolor\":\"white\",\"startlinecolor\":\"#2a3f5f\"},\"baxis\":{\"endlinecolor\":\"#2a3f5f\",\"gridcolor\":\"white\",\"linecolor\":\"white\",\"minorgridcolor\":\"white\",\"startlinecolor\":\"#2a3f5f\"},\"type\":\"carpet\"}],\"table\":[{\"cells\":{\"fill\":{\"color\":\"#EBF0F8\"},\"line\":{\"color\":\"white\"}},\"header\":{\"fill\":{\"color\":\"#C8D4E3\"},\"line\":{\"color\":\"white\"}},\"type\":\"table\"}],\"barpolar\":[{\"marker\":{\"line\":{\"color\":\"#E5ECF6\",\"width\":0.5},\"pattern\":{\"fillmode\":\"overlay\",\"size\":10,\"solidity\":0.2}},\"type\":\"barpolar\"}],\"pie\":[{\"automargin\":true,\"type\":\"pie\"}]},\"layout\":{\"autotypenumbers\":\"strict\",\"colorway\":[\"#636efa\",\"#EF553B\",\"#00cc96\",\"#ab63fa\",\"#FFA15A\",\"#19d3f3\",\"#FF6692\",\"#B6E880\",\"#FF97FF\",\"#FECB52\"],\"font\":{\"color\":\"#2a3f5f\"},\"hovermode\":\"closest\",\"hoverlabel\":{\"align\":\"left\"},\"paper_bgcolor\":\"white\",\"plot_bgcolor\":\"#E5ECF6\",\"polar\":{\"bgcolor\":\"#E5ECF6\",\"angularaxis\":{\"gridcolor\":\"white\",\"linecolor\":\"white\",\"ticks\":\"\"},\"radialaxis\":{\"gridcolor\":\"white\",\"linecolor\":\"white\",\"ticks\":\"\"}},\"ternary\":{\"bgcolor\":\"#E5ECF6\",\"aaxis\":{\"gridcolor\":\"white\",\"linecolor\":\"white\",\"ticks\":\"\"},\"baxis\":{\"gridcolor\":\"white\",\"linecolor\":\"white\",\"ticks\":\"\"},\"caxis\":{\"gridcolor\":\"white\",\"linecolor\":\"white\",\"ticks\":\"\"}},\"coloraxis\":{\"colorbar\":{\"outlinewidth\":0,\"ticks\":\"\"}},\"colorscale\":{\"sequential\":[[0.0,\"#0d0887\"],[0.1111111111111111,\"#46039f\"],[0.2222222222222222,\"#7201a8\"],[0.3333333333333333,\"#9c179e\"],[0.4444444444444444,\"#bd3786\"],[0.5555555555555556,\"#d8576b\"],[0.6666666666666666,\"#ed7953\"],[0.7777777777777778,\"#fb9f3a\"],[0.8888888888888888,\"#fdca26\"],[1.0,\"#f0f921\"]],\"sequentialminus\":[[0.0,\"#0d0887\"],[0.1111111111111111,\"#46039f\"],[0.2222222222222222,\"#7201a8\"],[0.3333333333333333,\"#9c179e\"],[0.4444444444444444,\"#bd3786\"],[0.5555555555555556,\"#d8576b\"],[0.6666666666666666,\"#ed7953\"],[0.7777777777777778,\"#fb9f3a\"],[0.8888888888888888,\"#fdca26\"],[1.0,\"#f0f921\"]],\"diverging\":[[0,\"#8e0152\"],[0.1,\"#c51b7d\"],[0.2,\"#de77ae\"],[0.3,\"#f1b6da\"],[0.4,\"#fde0ef\"],[0.5,\"#f7f7f7\"],[0.6,\"#e6f5d0\"],[0.7,\"#b8e186\"],[0.8,\"#7fbc41\"],[0.9,\"#4d9221\"],[1,\"#276419\"]]},\"xaxis\":{\"gridcolor\":\"white\",\"linecolor\":\"white\",\"ticks\":\"\",\"title\":{\"standoff\":15},\"zerolinecolor\":\"white\",\"automargin\":true,\"zerolinewidth\":2},\"yaxis\":{\"gridcolor\":\"white\",\"linecolor\":\"white\",\"ticks\":\"\",\"title\":{\"standoff\":15},\"zerolinecolor\":\"white\",\"automargin\":true,\"zerolinewidth\":2},\"scene\":{\"xaxis\":{\"backgroundcolor\":\"#E5ECF6\",\"gridcolor\":\"white\",\"linecolor\":\"white\",\"showbackground\":true,\"ticks\":\"\",\"zerolinecolor\":\"white\",\"gridwidth\":2},\"yaxis\":{\"backgroundcolor\":\"#E5ECF6\",\"gridcolor\":\"white\",\"linecolor\":\"white\",\"showbackground\":true,\"ticks\":\"\",\"zerolinecolor\":\"white\",\"gridwidth\":2},\"zaxis\":{\"backgroundcolor\":\"#E5ECF6\",\"gridcolor\":\"white\",\"linecolor\":\"white\",\"showbackground\":true,\"ticks\":\"\",\"zerolinecolor\":\"white\",\"gridwidth\":2}},\"shapedefaults\":{\"line\":{\"color\":\"#2a3f5f\"}},\"annotationdefaults\":{\"arrowcolor\":\"#2a3f5f\",\"arrowhead\":0,\"arrowwidth\":1},\"geo\":{\"bgcolor\":\"white\",\"landcolor\":\"#E5ECF6\",\"subunitcolor\":\"white\",\"showland\":true,\"showlakes\":true,\"lakecolor\":\"white\"},\"title\":{\"x\":0.05},\"mapbox\":{\"style\":\"light\"}}},\"annotations\":[{\"arrowhead\":2,\"ax\":0,\"ay\":-40,\"font\":{\"color\":\"black\",\"size\":10},\"showarrow\":true,\"text\":\"74.63%\",\"x\":\"DIESEL\",\"y\":8.19},{\"arrowhead\":2,\"ax\":0,\"ay\":-40,\"font\":{\"color\":\"black\",\"size\":10},\"showarrow\":true,\"text\":\"78.16%\",\"x\":\"DIESEL S10\",\"y\":8.89},{\"arrowhead\":2,\"ax\":0,\"ay\":-40,\"font\":{\"color\":\"black\",\"size\":10},\"showarrow\":true,\"text\":\"150.95%\",\"x\":\"ETANOL\",\"y\":6.6},{\"arrowhead\":2,\"ax\":0,\"ay\":-40,\"font\":{\"color\":\"black\",\"size\":10},\"showarrow\":true,\"text\":\"75.60%\",\"x\":\"GASOLINA\",\"y\":7.99},{\"arrowhead\":2,\"ax\":0,\"ay\":-40,\"font\":{\"color\":\"black\",\"size\":10},\"showarrow\":true,\"text\":\"89.55%\",\"x\":\"GASOLINA ADITIVADA\",\"y\":8.89},{\"arrowhead\":2,\"ax\":0,\"ay\":-40,\"font\":{\"color\":\"black\",\"size\":10},\"showarrow\":true,\"text\":\"88.98%\",\"x\":\"GNV\",\"y\":6.69}],\"xaxis\":{\"title\":{\"text\":\"Produto\"},\"tickangle\":-45},\"title\":{\"text\":\"Comparativo de Valores por Produto\"},\"yaxis\":{\"title\":{\"text\":\"Valor de Venda (R$)\"}},\"barmode\":\"group\",\"legend\":{\"title\":{\"text\":\"Tipo de Valor\"}},\"showlegend\":true},                        {\"responsive\": true}                    ).then(function(){\n",
       "                            \n",
       "var gd = document.getElementById('0675a29a-9f6f-4f5e-b925-7683fbd53d74');\n",
       "var x = new MutationObserver(function (mutations, observer) {{\n",
       "        var display = window.getComputedStyle(gd).display;\n",
       "        if (!display || display === 'none') {{\n",
       "            console.log([gd, 'removed!']);\n",
       "            Plotly.purge(gd);\n",
       "            observer.disconnect();\n",
       "        }}\n",
       "}});\n",
       "\n",
       "// Listen for the removal of the full notebook cells\n",
       "var notebookContainer = gd.closest('#notebook-container');\n",
       "if (notebookContainer) {{\n",
       "    x.observe(notebookContainer, {childList: true});\n",
       "}}\n",
       "\n",
       "// Listen for the clearing of the current output cell\n",
       "var outputEl = gd.closest('.output');\n",
       "if (outputEl) {{\n",
       "    x.observe(outputEl, {childList: true});\n",
       "}}\n",
       "\n",
       "                        })                };                });            </script>        </div>"
      ]
     },
     "metadata": {},
     "output_type": "display_data"
    }
   ],
   "source": [
    "import plotly.graph_objects as go\n",
    "df_comparativo = pd.merge(df_vendas_valor_min, df_vendas_valor_max, on='Produto')\n",
    "df_comparativo['Porcentagem_Diferenca'] = ((df_comparativo['Valor_Máximo'] - df_comparativo['Valor_Minimo']) / df_comparativo['Valor_Minimo']) * 100\n",
    "palette = sns.color_palette(\"mako\", 2).as_hex()\n",
    "fig = go.Figure()\n",
    "fig.add_trace(go.Bar(\n",
    "    x=df_comparativo['Produto'],\n",
    "    y=df_comparativo['Valor_Minimo'],\n",
    "    name='Valor Mínimo',\n",
    "    marker_color=palette[0]\n",
    "))\n",
    "fig.add_trace(go.Bar(\n",
    "    x=df_comparativo['Produto'],\n",
    "    y=df_comparativo['Valor_Máximo'],\n",
    "    name='Valor Máximo',\n",
    "    marker_color=palette[1]\n",
    "))\n",
    "for i, row in df_comparativo.iterrows():\n",
    "    fig.add_annotation(\n",
    "        x=row['Produto'], y=row['Valor_Máximo'], \n",
    "        text=f\"{row['Porcentagem_Diferenca']:.2f}%\", showarrow=True, \n",
    "        arrowhead=2, ax=0, ay=-40,\n",
    "        font=dict(size=10, color=\"black\")\n",
    "    )\n",
    "fig.update_layout(title='Comparativo de Valores por Produto',\n",
    "    xaxis_title='Produto', yaxis_title='Valor de Venda (R$)', barmode='group', xaxis_tickangle=-45,\n",
    "    legend_title=\"Tipo de Valor\", showlegend=True\n",
    ")\n",
    "fig.show()"
   ]
  }
 ],
 "metadata": {
  "kernelspec": {
   "display_name": "Python 3 (ipykernel)",
   "language": "python",
   "name": "python3"
  },
  "language_info": {
   "codemirror_mode": {
    "name": "ipython",
    "version": 3
   },
   "file_extension": ".py",
   "mimetype": "text/x-python",
   "name": "python",
   "nbconvert_exporter": "python",
   "pygments_lexer": "ipython3",
   "version": "3.13.0"
  }
 },
 "nbformat": 4,
 "nbformat_minor": 5
}
