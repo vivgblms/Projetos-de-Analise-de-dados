{
 "cells": [
  {
   "cell_type": "markdown",
   "id": "830f580d-d7dd-4852-91e8-2c5bde2a80e8",
   "metadata": {},
   "source": [
    "# **Análise de dados: Programa Minha Casa Minha Vida 2024**\n",
    "\n",
    "1. Definição do problema e Objetivo;\n",
    "2. Preparação e Coleta dos Dados;\n",
    "3. Análise Exploratória;\n",
    "4. Interpretação dos Resultados."
   ]
  },
  {
   "cell_type": "markdown",
   "id": "6a8ab12e-5950-4173-b5e5-77609b98a4ce",
   "metadata": {},
   "source": [
    "# **Definição do Problema**\n",
    "A análise detalhada do programa servirá como um exercício prático para aplicarmos os conceitos aprendidos em análise de dados, permitindo-nos mapear sua implementação, avaliar sua evolução e identificar seus impactos socioeconômicos."
   ]
  },
  {
   "cell_type": "markdown",
   "id": "100ee469-1009-470a-86a6-e24a3ca295a1",
   "metadata": {},
   "source": [
    "# **Objetivo**\n",
    "Desenvolver habilidades básicas de manipulação e análise de dados utilizando a linguagem Python. Através da análise de um conjunto de dados do Programa Minha Casa Minha Vida, este projeto busca consolidar os conhecimentos em bibliotecas como Pandas e NumPy. "
   ]
  },
  {
   "cell_type": "markdown",
   "id": "9013e387-1b89-4f59-a68b-120cc0e87662",
   "metadata": {},
   "source": [
    "# **Preparação**\n",
    "- A fase de importação das biliotecas e paleta de cores a serem utilizadas no projeto"
   ]
  },
  {
   "cell_type": "code",
   "execution_count": 3,
   "id": "cbbb5894-463f-47b4-a012-043698d90ac1",
   "metadata": {},
   "outputs": [],
   "source": [
    "# Importação das bibliotecas\n",
    "import pandas as pd\n",
    "import numpy as np\n",
    "import seaborn as sns\n",
    "import matplotlib.pyplot as plt"
   ]
  },
  {
   "cell_type": "code",
   "execution_count": 4,
   "id": "2708ec62-fd03-425d-8e6c-57b4dbd31294",
   "metadata": {},
   "outputs": [
    {
     "data": {
      "text/html": [
       "<svg  width=\"330\" height=\"55\"><rect x=\"0\" y=\"0\" width=\"55\" height=\"55\" style=\"fill:#35193e;stroke-width:2;stroke:rgb(255,255,255)\"/><rect x=\"55\" y=\"0\" width=\"55\" height=\"55\" style=\"fill:#701f57;stroke-width:2;stroke:rgb(255,255,255)\"/><rect x=\"110\" y=\"0\" width=\"55\" height=\"55\" style=\"fill:#ad1759;stroke-width:2;stroke:rgb(255,255,255)\"/><rect x=\"165\" y=\"0\" width=\"55\" height=\"55\" style=\"fill:#e13342;stroke-width:2;stroke:rgb(255,255,255)\"/><rect x=\"220\" y=\"0\" width=\"55\" height=\"55\" style=\"fill:#f37651;stroke-width:2;stroke:rgb(255,255,255)\"/><rect x=\"275\" y=\"0\" width=\"55\" height=\"55\" style=\"fill:#f6b48f;stroke-width:2;stroke:rgb(255,255,255)\"/></svg>"
      ],
      "text/plain": [
       "[(0.20973515, 0.09747934, 0.24238489),\n",
       " (0.43860848, 0.12177004, 0.34119475),\n",
       " (0.67824099, 0.09192342, 0.3504148),\n",
       " (0.8833417, 0.19830556, 0.26014181),\n",
       " (0.95381595, 0.46373781, 0.31769923),\n",
       " (0.96516917, 0.70776351, 0.5606593)]"
      ]
     },
     "execution_count": 4,
     "metadata": {},
     "output_type": "execute_result"
    }
   ],
   "source": [
    "# Paleta de cores aplicada\n",
    "sns.color_palette(\"rocket\")"
   ]
  },
  {
   "cell_type": "markdown",
   "id": "ce25bca7-31be-469c-888a-ab9d5b1e0379",
   "metadata": {},
   "source": [
    "# **Coleta dos Dados**\n",
    "- Os dados coletados estão em formato csv e estarão anexados em sua forma original no repositório para a visualização de todos."
   ]
  },
  {
   "cell_type": "code",
   "execution_count": 5,
   "id": "5c09657b-e513-4b30-bec0-d987aa1a0d88",
   "metadata": {
    "scrolled": true
   },
   "outputs": [
    {
     "data": {
      "text/html": [
       "<div>\n",
       "<style scoped>\n",
       "    .dataframe tbody tr th:only-of-type {\n",
       "        vertical-align: middle;\n",
       "    }\n",
       "\n",
       "    .dataframe tbody tr th {\n",
       "        vertical-align: top;\n",
       "    }\n",
       "\n",
       "    .dataframe thead th {\n",
       "        text-align: right;\n",
       "    }\n",
       "</style>\n",
       "<table border=\"1\" class=\"dataframe\">\n",
       "  <thead>\n",
       "    <tr style=\"text-align: right;\">\n",
       "      <th></th>\n",
       "      <th>data_referencia|\"cod_ibge\"|\"txt_municipio\"|\"txt_uf\"|\"num_ano_financiamento\"|\"qtd_uh_financiadas\"|\"vlr_financiamento\"|\"vlr_subsidio\"</th>\n",
       "    </tr>\n",
       "  </thead>\n",
       "  <tbody>\n",
       "    <tr>\n",
       "      <th>0</th>\n",
       "      <td>01/11/2024|110.001|Alta Floresta D'Oeste |RO|\"...</td>\n",
       "    </tr>\n",
       "    <tr>\n",
       "      <th>1</th>\n",
       "      <td>01/11/2024|110.001|Alta Floresta D'Oeste |RO|\"...</td>\n",
       "    </tr>\n",
       "    <tr>\n",
       "      <th>2</th>\n",
       "      <td>01/11/2024|110.001|Alta Floresta D'Oeste |RO|\"...</td>\n",
       "    </tr>\n",
       "    <tr>\n",
       "      <th>3</th>\n",
       "      <td>01/11/2024|110.001|Alta Floresta D'Oeste |RO|\"...</td>\n",
       "    </tr>\n",
       "    <tr>\n",
       "      <th>4</th>\n",
       "      <td>01/11/2024|110.001|Alta Floresta D'Oeste |RO|\"...</td>\n",
       "    </tr>\n",
       "    <tr>\n",
       "      <th>...</th>\n",
       "      <td>...</td>\n",
       "    </tr>\n",
       "    <tr>\n",
       "      <th>57854</th>\n",
       "      <td>01/11/2024|530.010|Brasília |DF|\"2020\"|3.742|3...</td>\n",
       "    </tr>\n",
       "    <tr>\n",
       "      <th>57855</th>\n",
       "      <td>01/11/2024|530.010|Brasília |DF|\"2021\"|3.846|3...</td>\n",
       "    </tr>\n",
       "    <tr>\n",
       "      <th>57856</th>\n",
       "      <td>01/11/2024|530.010|Brasília |DF|\"2022\"|4.223|5...</td>\n",
       "    </tr>\n",
       "    <tr>\n",
       "      <th>57857</th>\n",
       "      <td>01/11/2024|530.010|Brasília |DF|\"2023\"|5.526|9...</td>\n",
       "    </tr>\n",
       "    <tr>\n",
       "      <th>57858</th>\n",
       "      <td>01/11/2024|530.010|Brasília |DF|\"2024\"|4.673|7...</td>\n",
       "    </tr>\n",
       "  </tbody>\n",
       "</table>\n",
       "<p>57859 rows × 1 columns</p>\n",
       "</div>"
      ],
      "text/plain": [
       "      data_referencia|\"cod_ibge\"|\"txt_municipio\"|\"txt_uf\"|\"num_ano_financiamento\"|\"qtd_uh_financiadas\"|\"vlr_financiamento\"|\"vlr_subsidio\"\n",
       "0      01/11/2024|110.001|Alta Floresta D'Oeste |RO|\"...                                                                                 \n",
       "1      01/11/2024|110.001|Alta Floresta D'Oeste |RO|\"...                                                                                 \n",
       "2      01/11/2024|110.001|Alta Floresta D'Oeste |RO|\"...                                                                                 \n",
       "3      01/11/2024|110.001|Alta Floresta D'Oeste |RO|\"...                                                                                 \n",
       "4      01/11/2024|110.001|Alta Floresta D'Oeste |RO|\"...                                                                                 \n",
       "...                                                  ...                                                                                 \n",
       "57854  01/11/2024|530.010|Brasília |DF|\"2020\"|3.742|3...                                                                                 \n",
       "57855  01/11/2024|530.010|Brasília |DF|\"2021\"|3.846|3...                                                                                 \n",
       "57856  01/11/2024|530.010|Brasília |DF|\"2022\"|4.223|5...                                                                                 \n",
       "57857  01/11/2024|530.010|Brasília |DF|\"2023\"|5.526|9...                                                                                 \n",
       "57858  01/11/2024|530.010|Brasília |DF|\"2024\"|4.673|7...                                                                                 \n",
       "\n",
       "[57859 rows x 1 columns]"
      ]
     },
     "metadata": {},
     "output_type": "display_data"
    }
   ],
   "source": [
    "df = pd.read_csv('dados.csv', sep='|')\n",
    "display(df)"
   ]
  },
  {
   "cell_type": "markdown",
   "id": "4bdd19a1-af8b-451c-8bd1-e01f8295a963",
   "metadata": {},
   "source": [
    "# **Preparação**\n",
    "- Os dados originais estão apresentados em uma única coluna, contendo informações irrelevantes e formatos inadequados para análise estatística. Para transformar esses dados em um conjunto de dados utilizável será necessário realizar um processo de limpeza e transformação. Nas próximas etapas será detalhado os passos necessários para preparar os dados para a análise."
   ]
  },
  {
   "cell_type": "code",
   "execution_count": 6,
   "id": "bb2273b0-25d6-473d-b39f-e3fbd0cef656",
   "metadata": {},
   "outputs": [
    {
     "data": {
      "text/html": [
       "<div>\n",
       "<style scoped>\n",
       "    .dataframe tbody tr th:only-of-type {\n",
       "        vertical-align: middle;\n",
       "    }\n",
       "\n",
       "    .dataframe tbody tr th {\n",
       "        vertical-align: top;\n",
       "    }\n",
       "\n",
       "    .dataframe thead th {\n",
       "        text-align: right;\n",
       "    }\n",
       "</style>\n",
       "<table border=\"1\" class=\"dataframe\">\n",
       "  <thead>\n",
       "    <tr style=\"text-align: right;\">\n",
       "      <th></th>\n",
       "      <th>data_referencia</th>\n",
       "      <th>cod_ibge</th>\n",
       "      <th>txt_municipio</th>\n",
       "      <th>txt_uf</th>\n",
       "      <th>num_ano_financiamento</th>\n",
       "      <th>qtd_uh_financiadas</th>\n",
       "      <th>vlr_financiamento</th>\n",
       "      <th>vlr_subsidio</th>\n",
       "    </tr>\n",
       "  </thead>\n",
       "  <tbody>\n",
       "    <tr>\n",
       "      <th>0</th>\n",
       "      <td>01/11/2024</td>\n",
       "      <td>110.001</td>\n",
       "      <td>Alta Floresta D'Oeste</td>\n",
       "      <td>RO</td>\n",
       "      <td>\"2009\"</td>\n",
       "      <td>2</td>\n",
       "      <td>106.000</td>\n",
       "      <td>28.406</td>\n",
       "    </tr>\n",
       "    <tr>\n",
       "      <th>1</th>\n",
       "      <td>01/11/2024</td>\n",
       "      <td>110.001</td>\n",
       "      <td>Alta Floresta D'Oeste</td>\n",
       "      <td>RO</td>\n",
       "      <td>\"2010\"</td>\n",
       "      <td>11</td>\n",
       "      <td>598.983,79</td>\n",
       "      <td>129.620</td>\n",
       "    </tr>\n",
       "    <tr>\n",
       "      <th>2</th>\n",
       "      <td>01/11/2024</td>\n",
       "      <td>110.001</td>\n",
       "      <td>Alta Floresta D'Oeste</td>\n",
       "      <td>RO</td>\n",
       "      <td>\"2011\"</td>\n",
       "      <td>9</td>\n",
       "      <td>450.560,2</td>\n",
       "      <td>35.436</td>\n",
       "    </tr>\n",
       "    <tr>\n",
       "      <th>3</th>\n",
       "      <td>01/11/2024</td>\n",
       "      <td>110.001</td>\n",
       "      <td>Alta Floresta D'Oeste</td>\n",
       "      <td>RO</td>\n",
       "      <td>\"2012\"</td>\n",
       "      <td>26</td>\n",
       "      <td>1.711.299,54</td>\n",
       "      <td>532.644,3999999999</td>\n",
       "    </tr>\n",
       "    <tr>\n",
       "      <th>4</th>\n",
       "      <td>01/11/2024</td>\n",
       "      <td>110.001</td>\n",
       "      <td>Alta Floresta D'Oeste</td>\n",
       "      <td>RO</td>\n",
       "      <td>\"2013\"</td>\n",
       "      <td>33</td>\n",
       "      <td>2.331.474,5400000005</td>\n",
       "      <td>690.322,69</td>\n",
       "    </tr>\n",
       "    <tr>\n",
       "      <th>...</th>\n",
       "      <td>...</td>\n",
       "      <td>...</td>\n",
       "      <td>...</td>\n",
       "      <td>...</td>\n",
       "      <td>...</td>\n",
       "      <td>...</td>\n",
       "      <td>...</td>\n",
       "      <td>...</td>\n",
       "    </tr>\n",
       "    <tr>\n",
       "      <th>57854</th>\n",
       "      <td>01/11/2024</td>\n",
       "      <td>530.010</td>\n",
       "      <td>Brasília</td>\n",
       "      <td>DF</td>\n",
       "      <td>\"2020\"</td>\n",
       "      <td>3.742</td>\n",
       "      <td>387.457.013,4600002</td>\n",
       "      <td>87.050.495,4100001</td>\n",
       "    </tr>\n",
       "    <tr>\n",
       "      <th>57855</th>\n",
       "      <td>01/11/2024</td>\n",
       "      <td>530.010</td>\n",
       "      <td>Brasília</td>\n",
       "      <td>DF</td>\n",
       "      <td>\"2021\"</td>\n",
       "      <td>3.846</td>\n",
       "      <td>391.480.006,53000003</td>\n",
       "      <td>90.271.195,58999997</td>\n",
       "    </tr>\n",
       "    <tr>\n",
       "      <th>57856</th>\n",
       "      <td>01/11/2024</td>\n",
       "      <td>530.010</td>\n",
       "      <td>Brasília</td>\n",
       "      <td>DF</td>\n",
       "      <td>\"2022\"</td>\n",
       "      <td>4.223</td>\n",
       "      <td>563.184.030,8500001</td>\n",
       "      <td>87.469.174,20000002</td>\n",
       "    </tr>\n",
       "    <tr>\n",
       "      <th>57857</th>\n",
       "      <td>01/11/2024</td>\n",
       "      <td>530.010</td>\n",
       "      <td>Brasília</td>\n",
       "      <td>DF</td>\n",
       "      <td>\"2023\"</td>\n",
       "      <td>5.526</td>\n",
       "      <td>908.294.271,3199998</td>\n",
       "      <td>114.790.139,27000003</td>\n",
       "    </tr>\n",
       "    <tr>\n",
       "      <th>57858</th>\n",
       "      <td>01/11/2024</td>\n",
       "      <td>530.010</td>\n",
       "      <td>Brasília</td>\n",
       "      <td>DF</td>\n",
       "      <td>\"2024\"</td>\n",
       "      <td>4.673</td>\n",
       "      <td>791.267.488,6899997</td>\n",
       "      <td>100.455.459,77000001</td>\n",
       "    </tr>\n",
       "  </tbody>\n",
       "</table>\n",
       "<p>57859 rows × 8 columns</p>\n",
       "</div>"
      ],
      "text/plain": [
       "      data_referencia cod_ibge           txt_municipio txt_uf  \\\n",
       "0          01/11/2024  110.001  Alta Floresta D'Oeste      RO   \n",
       "1          01/11/2024  110.001  Alta Floresta D'Oeste      RO   \n",
       "2          01/11/2024  110.001  Alta Floresta D'Oeste      RO   \n",
       "3          01/11/2024  110.001  Alta Floresta D'Oeste      RO   \n",
       "4          01/11/2024  110.001  Alta Floresta D'Oeste      RO   \n",
       "...               ...      ...                     ...    ...   \n",
       "57854      01/11/2024  530.010               Brasília      DF   \n",
       "57855      01/11/2024  530.010               Brasília      DF   \n",
       "57856      01/11/2024  530.010               Brasília      DF   \n",
       "57857      01/11/2024  530.010               Brasília      DF   \n",
       "57858      01/11/2024  530.010               Brasília      DF   \n",
       "\n",
       "      num_ano_financiamento qtd_uh_financiadas     vlr_financiamento  \\\n",
       "0                    \"2009\"                  2               106.000   \n",
       "1                    \"2010\"                 11            598.983,79   \n",
       "2                    \"2011\"                  9             450.560,2   \n",
       "3                    \"2012\"                 26          1.711.299,54   \n",
       "4                    \"2013\"                 33  2.331.474,5400000005   \n",
       "...                     ...                ...                   ...   \n",
       "57854                \"2020\"              3.742   387.457.013,4600002   \n",
       "57855                \"2021\"              3.846  391.480.006,53000003   \n",
       "57856                \"2022\"              4.223   563.184.030,8500001   \n",
       "57857                \"2023\"              5.526   908.294.271,3199998   \n",
       "57858                \"2024\"              4.673   791.267.488,6899997   \n",
       "\n",
       "               vlr_subsidio  \n",
       "0                    28.406  \n",
       "1                   129.620  \n",
       "2                    35.436  \n",
       "3        532.644,3999999999  \n",
       "4                690.322,69  \n",
       "...                     ...  \n",
       "57854    87.050.495,4100001  \n",
       "57855   90.271.195,58999997  \n",
       "57856   87.469.174,20000002  \n",
       "57857  114.790.139,27000003  \n",
       "57858  100.455.459,77000001  \n",
       "\n",
       "[57859 rows x 8 columns]"
      ]
     },
     "metadata": {},
     "output_type": "display_data"
    }
   ],
   "source": [
    "# Divisão das colunas\n",
    "df[[\"data_referencia\", \"cod_ibge\", \"txt_municipio\", \"txt_uf\", \n",
    "    \"num_ano_financiamento\", \"qtd_uh_financiadas\", \"vlr_financiamento\", \"vlr_subsidio\"]] = (\n",
    "    df['data_referencia|\"cod_ibge\"|\"txt_municipio\"|\"txt_uf\"|\"num_ano_financiamento\"|\"qtd_uh_financiadas\"|\"vlr_financiamento\"|\"vlr_subsidio\"']\n",
    "    .str.split(\"|\", expand=True)\n",
    ")\n",
    "# Removendo a coluna indesejada\n",
    "df.drop(columns=['data_referencia|\"cod_ibge\"|\"txt_municipio\"|\"txt_uf\"|\"num_ano_financiamento\"|\"qtd_uh_financiadas\"|\"vlr_financiamento\"|\"vlr_subsidio\"'], inplace=True)\n",
    "# Verificando o resultado\n",
    "display(df)"
   ]
  },
  {
   "cell_type": "markdown",
   "id": "1726fa93-fb06-475a-b6be-ebb938b1db4e",
   "metadata": {},
   "source": [
    "- Na coluna num_ano_financiamento serão removidas as aspas para a melhor visualização dos dados, juntamente com a remoção da coluna cod_ibge que é irrelevante para esta análise."
   ]
  },
  {
   "cell_type": "code",
   "execution_count": 7,
   "id": "80ea1b32-daeb-4bfc-b618-336a8d949cf2",
   "metadata": {},
   "outputs": [],
   "source": [
    "# Remoção das aspas na coluna num_ano_financiamento\n",
    "df['num_ano_financiamento'] = (df['num_ano_financiamento'].astype(str).str.replace('\"', ''))\n",
    "# Remoção de coluna irrelevante\n",
    "df = df.drop(columns=['cod_ibge'])"
   ]
  },
  {
   "cell_type": "markdown",
   "id": "2d7b14ed-a4ca-4177-ae31-5c89d9ce0db9",
   "metadata": {},
   "source": [
    "- Segue abaixo a conversão dos dados para os tipos apropriados, visando facilitar o processamento posteriormente."
   ]
  },
  {
   "cell_type": "code",
   "execution_count": 8,
   "id": "0aa6da4c-ea1c-4d41-9b67-88fd408153a3",
   "metadata": {},
   "outputs": [],
   "source": [
    "# Conversão dos dados\n",
    "df['data_referencia'] = pd.to_datetime(df['data_referencia'], format='%d/%m/%Y')\n",
    "df['num_ano_financiamento'] = df['num_ano_financiamento'].astype(int)\n",
    "df['qtd_uh_financiadas'] = pd.to_numeric(df['qtd_uh_financiadas'])"
   ]
  },
  {
   "cell_type": "markdown",
   "id": "c9104e78-5a10-4102-842a-f1903b6e3f01",
   "metadata": {},
   "source": [
    "- Nas colunas de moeda brasileira, são apresentadas várias casas decimais será necessário uma formatação minusiosa para estas."
   ]
  },
  {
   "cell_type": "code",
   "execution_count": 9,
   "id": "5b9aa77c-f4fc-4972-a961-60ad637ca1e5",
   "metadata": {},
   "outputs": [],
   "source": [
    "# Formatação e conversão da coluna vlr_financiaamento\n",
    "df['vlr_financiamento'] = df['vlr_financiamento'].str.replace(r'(?<=\\d)\\.(?=\\d{3})', '', regex=True) \n",
    "df['vlr_financiamento'] = df['vlr_financiamento'].str.replace(',', '.', regex=True)\n",
    "df['vlr_financiamento'] = pd.to_numeric(df['vlr_financiamento'], errors='coerce')\n",
    "# A mesma formatação para a coluna vlr_subsidio\n",
    "df['vlr_subsidio'] = df['vlr_subsidio'].str.replace(r'(?<=\\d)\\.(?=\\d{3})', '', regex=True)  \n",
    "df['vlr_subsidio'] = df['vlr_subsidio'].str.replace(',', '.', regex=True)\n",
    "df['vlr_subsidio'] = pd.to_numeric(df['vlr_subsidio'], errors='coerce')"
   ]
  },
  {
   "cell_type": "code",
   "execution_count": 10,
   "id": "0b753347-240e-4616-97a0-a9a7d06a3ef6",
   "metadata": {},
   "outputs": [
    {
     "data": {
      "text/plain": [
       "data_referencia          datetime64[ns]\n",
       "txt_municipio                    object\n",
       "txt_uf                           object\n",
       "num_ano_financiamento             int64\n",
       "qtd_uh_financiadas              float64\n",
       "vlr_financiamento               float64\n",
       "vlr_subsidio                    float64\n",
       "dtype: object"
      ]
     },
     "execution_count": 10,
     "metadata": {},
     "output_type": "execute_result"
    }
   ],
   "source": [
    "# Verificando os resultados da conversão\n",
    "df.dtypes"
   ]
  },
  {
   "cell_type": "markdown",
   "id": "9da56075-46b0-408e-bd3a-a0839aca0660",
   "metadata": {},
   "source": [
    "# **Análise Exploratória**\n",
    "Nesta etapa, realizaremos uma análise exploratória dos dados para identificar padrões e insights relevantes sobre o tema."
   ]
  },
  {
   "cell_type": "code",
   "execution_count": 11,
   "id": "e9b0e155-1463-483d-9497-707aa711b781",
   "metadata": {},
   "outputs": [
    {
     "name": "stdout",
     "output_type": "stream",
     "text": [
      "Há cerca de 3117203 unidades habitacionais financiadas.\n"
     ]
    }
   ],
   "source": [
    "print(f'Há cerca de {df[\"qtd_uh_financiadas\"].sum():.0f} unidades habitacionais financiadas.')"
   ]
  },
  {
   "cell_type": "markdown",
   "id": "c1c35457-9161-41d6-92ef-78d9f151f9a4",
   "metadata": {},
   "source": [
    "**Para visualizarmos a distribuição das unidades habitacionais financiadas por estado, apresentamos o gráfico de barras abaixo.**"
   ]
  },
  {
   "cell_type": "code",
   "execution_count": 12,
   "id": "3af32b6e-d5f6-4c18-a473-e0f229f70bd9",
   "metadata": {},
   "outputs": [
    {
     "data": {
      "image/png": "[encoded data removed]",
      "text/plain": [
       "<Figure size 700x500 with 1 Axes>"
      ]
     },
     "metadata": {},
     "output_type": "display_data"
    }
   ],
   "source": [
    "# Criação do Gráfico\n",
    "total_uh_financiadas = df.groupby('txt_uf')['qtd_uh_financiadas'].sum().reset_index()\n",
    "total_uh_financiadas_ranking = total_uh_financiadas.sort_values(by='qtd_uh_financiadas', ascending=True)\n",
    "plt.figure(figsize=(7, 5))\n",
    "sns.barplot(x='qtd_uh_financiadas', y='txt_uf', data=total_uh_financiadas_ranking, orient='h', hue='txt_uf', palette='rocket')\n",
    "plt.title('Quantidade de Unidades Habitacionais Financiadas por Estado', fontsize=12)\n",
    "plt.xlabel('Unidades Habitacionais Financiadas', fontsize=8)\n",
    "plt.ylabel('Estado', fontsize=8)\n",
    "plt.tight_layout()\n",
    "plt.show()"
   ]
  },
  {
   "cell_type": "code",
   "execution_count": 13,
   "id": "98f6a524-098d-43b0-aade-5d925c03dd25",
   "metadata": {},
   "outputs": [
    {
     "name": "stdout",
     "output_type": "stream",
     "text": [
      "O estado com o maior número de unidades habitacionais financiadas é SP com aproximadamente 699042.065 unidades.\n",
      "O estado com o menor número é DF com aproximadamente 68.219 unidades.\n"
     ]
    }
   ],
   "source": [
    "total_uh_financiadas = df.groupby('txt_uf')['qtd_uh_financiadas'].sum()\n",
    "print(f'O estado com o maior número de unidades habitacionais financiadas é {total_uh_financiadas.idxmax()} com aproximadamente {total_uh_financiadas.max()} unidades.\\nO estado com o menor número é {total_uh_financiadas.idxmin()} com aproximadamente {total_uh_financiadas.min()} unidades.')"
   ]
  },
  {
   "cell_type": "code",
   "execution_count": 14,
   "id": "605bc78c-6329-4724-9a8f-b4bad846fa02",
   "metadata": {},
   "outputs": [
    {
     "name": "stdout",
     "output_type": "stream",
     "text": [
      "Existem 4841 municípios distintos nesta base.\n"
     ]
    }
   ],
   "source": [
    "total_num_municipios = df[\"txt_municipio\"].nunique()\n",
    "print(f'Existem {total_num_municipios} municípios distintos nesta base.')"
   ]
  },
  {
   "cell_type": "code",
   "execution_count": 15,
   "id": "012c0ebb-9f49-4cb0-a3ba-4e3b1aa7fc44",
   "metadata": {},
   "outputs": [
    {
     "name": "stdout",
     "output_type": "stream",
     "text": [
      "O municipio com o maior número de unidades habitacionais financiadas é Palmas com aproximadamente 11454.0 unidades.\n",
      "E com o menor número é Abaíra  com aproximadamente 1.0 unidades.\n"
     ]
    }
   ],
   "source": [
    "municipios = df.groupby('txt_municipio')['qtd_uh_financiadas'].sum()\n",
    "print(f'O municipio com o maior número de unidades habitacionais financiadas é {municipios.idxmax()}com aproximadamente {municipios.max()} unidades.\\nE com o menor número é {municipios.idxmin()} com aproximadamente {municipios.min()} unidades.')"
   ]
  },
  {
   "cell_type": "markdown",
   "id": "07201f6d-0417-4e9b-b542-22fd1376a9fb",
   "metadata": {},
   "source": [
    "- Vamos agora examinar a quantidade de financiamentos concedidos por ano:"
   ]
  },
  {
   "cell_type": "code",
   "execution_count": 16,
   "id": "4453edca-3979-4336-a985-3de80d41d751",
   "metadata": {
    "scrolled": true
   },
   "outputs": [
    {
     "data": {
      "text/plain": [
       "num_ano_financiamento\n",
       "2009    168420.477\n",
       "2010    208420.626\n",
       "2011    208561.641\n",
       "2012    213021.469\n",
       "2013    221010.583\n",
       "2014    226955.433\n",
       "2015    227161.758\n",
       "2016    214227.915\n",
       "2017    199349.775\n",
       "2018    189072.522\n",
       "2019    181980.759\n",
       "2020    169546.574\n",
       "2021    158509.130\n",
       "2022    155710.884\n",
       "2023    180150.370\n",
       "2024    195102.964\n",
       "Name: qtd_uh_financiadas, dtype: float64"
      ]
     },
     "metadata": {},
     "output_type": "display_data"
    }
   ],
   "source": [
    "anos_uh_financiadas = df.groupby('num_ano_financiamento')['qtd_uh_financiadas'].sum()\n",
    "display(anos_uh_financiadas)"
   ]
  },
  {
   "cell_type": "markdown",
   "id": "00e20e43-fd65-4245-a4a6-408362aa7ae4",
   "metadata": {},
   "source": [
    "O gráfico abaixo mostra um padrão de crescimento exponencial no número de unidades financiadas, com uma aceleração significativa no período de 2014-2016 e queda no ano de 2022."
   ]
  },
  {
   "cell_type": "code",
   "execution_count": 32,
   "id": "eba2a236-3465-4db6-a649-fa2f2d57ed21",
   "metadata": {},
   "outputs": [
    {
     "data": {
      "image/png": "[encoded data removed]",
      "text/plain": [
       "<Figure size 600x400 with 1 Axes>"
      ]
     },
     "metadata": {},
     "output_type": "display_data"
    }
   ],
   "source": [
    "# Criação do Gráfico\n",
    "sns.color_palette(\"rocket\")\n",
    "anos_uh_financiadas = df.groupby('num_ano_financiamento')['qtd_uh_financiadas'].sum()\n",
    "plt.figure(figsize=(6, 4))\n",
    "sns.lineplot(x=anos_uh_financiadas.index, y=anos_uh_financiadas.values, marker='o')\n",
    "plt.title('Evolução das Unidades Habitacionais Financiadas por Ano', fontsize=10)\n",
    "plt.xlabel('Ano de Financiamento', fontsize=8)\n",
    "plt.ylabel('Unidades Habitacionais Financiadas', fontsize=8)\n",
    "plt.tight_layout()\n",
    "plt.show()"
   ]
  },
  {
   "cell_type": "markdown",
   "id": "987614f9-c762-4d1f-ae37-16bc74973a67",
   "metadata": {},
   "source": [
    "A seguir, são apresentados os dados estatísticos sobre os valores de financiamento e subsídio:"
   ]
  },
  {
   "cell_type": "code",
   "execution_count": 28,
   "id": "e0c5cc80-c146-4c98-a2ed-b9a41e03de55",
   "metadata": {},
   "outputs": [
    {
     "name": "stdout",
     "output_type": "stream",
     "text": [
      "       vlr_financiamento  vlr_subsidio\n",
      "count       5.785900e+04  5.785900e+04\n",
      "mean        1.175075e+07  2.135543e+06\n",
      "std         8.610015e+07  1.015091e+07\n",
      "min         1.500000e+03  0.000000e+00\n",
      "25%         1.963055e+05  3.045561e+04\n",
      "50%         8.038304e+05  1.485044e+05\n",
      "75%         3.800174e+06  7.761737e+05\n",
      "max         9.926335e+09  5.380884e+08\n"
     ]
    }
   ],
   "source": [
    "estatisticas = df[['vlr_financiamento', 'vlr_subsidio']].describe()\n",
    "print(estatisticas)"
   ]
  },
  {
   "cell_type": "markdown",
   "id": "3d8f43af-1fb1-477b-9071-921db29b59da",
   "metadata": {},
   "source": [
    "A análise revelou que o subsídio mínimo de alguns municípios atingiu zero. O gráfico a seguir detalha a distribuição desses municípios por estado."
   ]
  },
  {
   "cell_type": "code",
   "execution_count": 29,
   "id": "953ad235-19c1-4b8e-a491-f953a225cf6a",
   "metadata": {},
   "outputs": [
    {
     "data": {
      "image/png": "[encoded data removed]",
      "text/plain": [
       "<Figure size 1000x300 with 1 Axes>"
      ]
     },
     "metadata": {},
     "output_type": "display_data"
    }
   ],
   "source": [
    "# Criação do Gráfico\n",
    "min_por_estado = df[df['vlr_subsidio'] == 0].groupby('txt_uf').size()\n",
    "sns.set_palette(\"rocket\") \n",
    "plt.figure(figsize=(10, 3))\n",
    "ax = min_por_estado.plot(kind='bar', rot=45, width=0.7)\n",
    "plt.title('Quantidade de Municípios com Subsídio Mínimo por Estado', fontsize=14)\n",
    "plt.xlabel('Estado', fontsize=10)\n",
    "plt.ylabel('Número de Municípios', fontsize=10)\n",
    "plt.show()"
   ]
  },
  {
   "cell_type": "markdown",
   "id": "cac2fccf-1a4d-4a5e-b90d-0a87870d4347",
   "metadata": {},
   "source": [
    "A ausência de subsídio em Minas Gerais apresentou o cenário mais crítico, com mais de 400 municípios afetados. O elevado número de unidades financiadas no estado pode ter contribuído para essa situação, ficando apenas atrás de São Paulo, com o maior número de unidades financiadas."
   ]
  },
  {
   "cell_type": "markdown",
   "id": "a35f38c0-5c77-443b-9a98-e821d7fe0273",
   "metadata": {},
   "source": [
    "# **Interpretação dos Resultados**\n",
    "\n",
    "A análise dos dados evidencia uma distribuição desigual de financiamentos habitacionais no Brasil, concentrando recursos em determinadas regiões e agravando as disparidades no acesso à moradia digna. Essa concentração, aliada à ausência de subsídios em algumas localidades, impacta negativamente o desenvolvimento urbano e social, perpetuando desigualdades e limitando o potencial de crescimento dessas áreas. A correlação entre o desenvolvimento econômico de um estado e a qualidade de suas habitações é evidente nos dados analisados. "
   ]
  }
 ],
 "metadata": {
  "kernelspec": {
   "display_name": "Python 3 (ipykernel)",
   "language": "python",
   "name": "python3"
  },
  "language_info": {
   "codemirror_mode": {
    "name": "ipython",
    "version": 3
   },
   "file_extension": ".py",
   "mimetype": "text/x-python",
   "name": "python",
   "nbconvert_exporter": "python",
   "pygments_lexer": "ipython3",
   "version": "3.13.0"
  }
 },
 "nbformat": 4,
 "nbformat_minor": 5
}
